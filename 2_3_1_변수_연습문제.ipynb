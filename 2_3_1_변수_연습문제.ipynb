{
  "nbformat": 4,
  "nbformat_minor": 0,
  "metadata": {
    "colab": {
      "provenance": [],
      "authorship_tag": "ABX9TyMrmyTKmM2mJ+PIm9wooqfn",
      "include_colab_link": true
    },
    "kernelspec": {
      "name": "python3",
      "display_name": "Python 3"
    },
    "language_info": {
      "name": "python"
    }
  },
  "cells": [
    {
      "cell_type": "markdown",
      "metadata": {
        "id": "view-in-github",
        "colab_type": "text"
      },
      "source": [
        "<a href=\"https://colab.research.google.com/github/denverkim/Python-for-Beginners/blob/main/2_3_1_%EB%B3%80%EC%88%98_%EC%97%B0%EC%8A%B5%EB%AC%B8%EC%A0%9C.ipynb\" target=\"_parent\"><img src=\"https://colab.research.google.com/assets/colab-badge.svg\" alt=\"Open In Colab\"/></a>"
      ]
    },
    {
      "cell_type": "code",
      "source": [
        "# Write a program that asks the user to enter their name and their age. Print out a message addressed to them that tells them the year that they will turn 100 years old.\n",
        "\n",
        "name = input(\"이름은 무엇입니까? \")\n",
        "age = int(input(\"나이는? \"))\n",
        "print(\"당신은 \", 100-age, \" 후에 100살이 되십니다\")"
      ],
      "metadata": {
        "id": "s2Mr2g7Xh1gE"
      },
      "execution_count": null,
      "outputs": []
    },
    {
      "cell_type": "code",
      "source": [
        "#Write a program that prompts the user to input their weight and height, and then outputs their BMI. To work out your BMI, divide your weight in kilograms by your height in meters squared (BMI = w / h*h).\n",
        "weight = int(input(\"weight? \"))\n",
        "height = int(input(\"height? \"))/100\n",
        "bmi = weight / (height * height)\n",
        "print(\"Your BMI score is \", round(bmi,2), \".\")"
      ],
      "metadata": {
        "id": "IDrnpwAPiAid"
      },
      "execution_count": null,
      "outputs": []
    },
    {
      "cell_type": "code",
      "execution_count": null,
      "metadata": {
        "id": "y4EueHjxYh-i"
      },
      "outputs": [],
      "source": [
        "#세금계산 프로그램\n",
        "rate = .2\n",
        "std_ded = 10000\n",
        "dep_ded = 3000\n",
        "\n",
        "income = float(input('Enter the gross income: '))\n",
        "num_dep = int(input('Enter the number of dependents: '))\n",
        "tax = (income - std_ded - dep_ded * num_dep)*rate\n",
        "print('The income tax is $' + str(tax))"
      ]
    }
  ]
}