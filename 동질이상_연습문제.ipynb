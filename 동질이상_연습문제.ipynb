{
  "nbformat": 4,
  "nbformat_minor": 0,
  "metadata": {
    "colab": {
      "provenance": [],
      "authorship_tag": "ABX9TyNT+swXW4HzFlYVMcPCb2jW",
      "include_colab_link": true
    },
    "kernelspec": {
      "name": "python3",
      "display_name": "Python 3"
    },
    "language_info": {
      "name": "python"
    }
  },
  "cells": [
    {
      "cell_type": "markdown",
      "metadata": {
        "id": "view-in-github",
        "colab_type": "text"
      },
      "source": [
        "<a href=\"https://colab.research.google.com/github/denverkim/Python-for-Beginners/blob/main/%EB%8F%99%EC%A7%88%EC%9D%B4%EC%83%81_%EC%97%B0%EC%8A%B5%EB%AC%B8%EC%A0%9C.ipynb\" target=\"_parent\"><img src=\"https://colab.research.google.com/assets/colab-badge.svg\" alt=\"Open In Colab\"/></a>"
      ]
    },
    {
      "cell_type": "markdown",
      "source": [
        "# 🐻🐶 곰과 강아지 클래스\n",
        "Bear와 Dog라는 두 개의 클래스를 정의하시오.\n",
        "각 클래스는 서로 다른 소리를 내는 makeSound() 메서드를 가지고 있어야 합니다.\n",
        "이후, 두 클래스의 인스턴스를 생성한 후 동일한 메서드(makeSound())를 호출하여 각각의 동작을 실행하시오.\n",
        "\n",
        "**Main operations**\n",
        "\n",
        "```\n",
        "bear = Bear()\n",
        "bear.makeSound()\n",
        "\n",
        "dog = Dog()\n",
        "dog.makeSound()\n",
        "```\n",
        "\n",
        "\n",
        "**Expected Output**\n",
        "\n",
        "```\n",
        "Groarrr\n",
        "Woof woof!\n",
        "```"
      ],
      "metadata": {
        "id": "cepc8aHhKltW"
      }
    },
    {
      "cell_type": "code",
      "execution_count": null,
      "metadata": {
        "id": "tBpa9fWCKe-o"
      },
      "outputs": [],
      "source": [
        "class Bear:\n",
        "    def makeSound(self):\n",
        "        print(\"Groarrr\")\n",
        "\n",
        "class Dog:\n",
        "    def makeSound(self):\n",
        "        print(\"Woof woof!\")\n",
        "\n",
        "# 인스턴스 생성 및 메소드 호출\n",
        "bear = Bear()\n",
        "bear.makeSound()\n",
        "\n",
        "dog = Dog()\n",
        "dog.makeSound()"
      ]
    },
    {
      "cell_type": "markdown",
      "source": [
        "# 🚗 자동차 클래스\n",
        "Car라는 클래스를 정의하시오.\n",
        "\n",
        "\n",
        "\n",
        "*   Car 클래스는 drive()와 stop()이라는 메서드를 가지고 있으며, 이들은 기본적으로 pass를 사용해 구현하지 않아도 됩니다.\n",
        "*   Car 클래스를 상속받는 Sportscar와 Truck 클래스를 정의하시오.\n",
        "*   각 클래스는 운전자의 이름을 받아서 출력 형식에 맞게 drive() 메서드를 오버라이드하여 구현하시오.\n",
        "\n",
        "**Main operations**\n",
        "\n",
        "```\n",
        "sport = Sportscar('Kim')\n",
        "sport.drive()\n",
        "\n",
        "truck = Truck('Kim')\n",
        "truck.drive()\n",
        "```\n",
        "\n",
        "**Expected Output**\n",
        "\n",
        "\n",
        "```\n",
        "Kim is driving Sportscar!\n",
        "Kim is driving Truck!\n",
        "```"
      ],
      "metadata": {
        "id": "Owb9GjsfK5eG"
      }
    },
    {
      "cell_type": "code",
      "source": [
        "class Car:\n",
        "    def drive(self):\n",
        "        pass\n",
        "    def stop(self):\n",
        "        pass\n",
        "\n",
        "class Sportscar(Car):\n",
        "    def __init__(self, driver):\n",
        "        self.driver = driver\n",
        "\n",
        "    def drive(self):\n",
        "        print(f\"{self.driver} is driving Sportscar!\")\n",
        "\n",
        "class Truck(Car):\n",
        "    def __init__(self, driver):\n",
        "        self.driver = driver\n",
        "\n",
        "    def drive(self):\n",
        "        print(f\"{self.driver} is driving Truck!\")\n",
        "\n",
        "# 인스턴스 생성 및 메소드 호출\n",
        "sport = Sportscar('Kim')\n",
        "sport.drive()\n",
        "\n",
        "truck = Truck('Kim')\n",
        "truck.drive()"
      ],
      "metadata": {
        "id": "8AGMpcqNLPLe"
      },
      "execution_count": null,
      "outputs": []
    }
  ]
}