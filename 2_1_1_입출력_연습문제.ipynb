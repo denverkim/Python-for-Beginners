{
  "nbformat": 4,
  "nbformat_minor": 0,
  "metadata": {
    "colab": {
      "provenance": [],
      "authorship_tag": "ABX9TyMb11o+ATP6kNuP5FygUy4X",
      "include_colab_link": true
    },
    "kernelspec": {
      "name": "python3",
      "display_name": "Python 3"
    },
    "language_info": {
      "name": "python"
    }
  },
  "cells": [
    {
      "cell_type": "markdown",
      "metadata": {
        "id": "view-in-github",
        "colab_type": "text"
      },
      "source": [
        "<a href=\"https://colab.research.google.com/github/denverkim/Python-for-Beginners/blob/main/2_1_1_%EC%9E%85%EC%B6%9C%EB%A0%A5_%EC%97%B0%EC%8A%B5%EB%AC%B8%EC%A0%9C.ipynb\" target=\"_parent\"><img src=\"https://colab.research.google.com/assets/colab-badge.svg\" alt=\"Open In Colab\"/></a>"
      ]
    },
    {
      "cell_type": "code",
      "execution_count": null,
      "metadata": {
        "id": "NRwVJS4hWTFt"
      },
      "outputs": [],
      "source": [
        "# Twinkle 예제\n",
        "print('Twinkle, twinkle, little star,')\n",
        "print('\\tHow I wonder what you are!')\n",
        "print('\\t\\tUp above the world so high,')\n",
        "print('\\t\\tLike a diamond in the sky.')\n",
        "print('Twinkle, twinkle, little star,')\n",
        "print('\\tHow I wonder what you are!')"
      ]
    }
  ]
}