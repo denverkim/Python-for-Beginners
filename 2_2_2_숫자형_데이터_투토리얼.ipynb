{
  "nbformat": 4,
  "nbformat_minor": 0,
  "metadata": {
    "colab": {
      "provenance": [],
      "authorship_tag": "ABX9TyOnK7sDEEH4ZlUIOtuJx4cG",
      "include_colab_link": true
    },
    "kernelspec": {
      "name": "python3",
      "display_name": "Python 3"
    },
    "language_info": {
      "name": "python"
    }
  },
  "cells": [
    {
      "cell_type": "markdown",
      "metadata": {
        "id": "view-in-github",
        "colab_type": "text"
      },
      "source": [
        "<a href=\"https://colab.research.google.com/github/denverkim/Python-for-Beginners/blob/main/2_2_2_%EC%88%AB%EC%9E%90%ED%98%95_%EB%8D%B0%EC%9D%B4%ED%84%B0_%ED%88%AC%ED%86%A0%EB%A6%AC%EC%96%BC.ipynb\" target=\"_parent\"><img src=\"https://colab.research.google.com/assets/colab-badge.svg\" alt=\"Open In Colab\"/></a>"
      ]
    },
    {
      "cell_type": "markdown",
      "source": [
        "# Python 숫자형 데이터 타입\n",
        "https://www.w3schools.com/python/python_numbers.asp    \n",
        "Python에서 숫자는 매우 중요한 데이터 타입입니다. 기본적으로 숫자형은 정수(int), 부동소수점 숫자(float), 그리고 복소수(complex)로 나눌 수 있습니다."
      ],
      "metadata": {
        "id": "aT1BFa4GrXhL"
      }
    },
    {
      "cell_type": "code",
      "execution_count": 2,
      "metadata": {
        "colab": {
          "base_uri": "https://localhost:8080/"
        },
        "id": "JqRyB_Ihqw5x",
        "outputId": "8343c9e5-9e0e-4a84-b59c-804f2aeac5e6"
      },
      "outputs": [
        {
          "output_type": "stream",
          "name": "stdout",
          "text": [
            "<class 'int'>\n",
            "<class 'float'>\n",
            "<class 'complex'>\n"
          ]
        }
      ],
      "source": [
        "x = 1      # 정수\n",
        "y = 2.8    # 부동소수점 (float)\n",
        "z = 1j     # 복소수 (complex)\n",
        "\n",
        "print(type(x))  # x의 타입을 출력\n",
        "print(type(y))  # y의 타입을 출력\n",
        "print(type(z))  # z의 타입을 출력"
      ]
    },
    {
      "cell_type": "markdown",
      "source": [
        "## 정수 (Integer)\n",
        "정수는 소수점이 없는 숫자입니다. 양수, 음수, 0 모두 포함됩니다."
      ],
      "metadata": {
        "id": "ogpKMxuEU6Yj"
      }
    },
    {
      "cell_type": "code",
      "source": [
        "x = 1                      # 정수 (int)\n",
        "y = 357705847              # 큰 정수 (int)\n",
        "z = -465423840923          # 음의 큰 정수 (int)\n",
        "\n",
        "print(type(x))  # x의 타입을 출력\n",
        "print(type(y))  # y의 타입을 출력\n",
        "print(type(z))  # z의 타입을 출력"
      ],
      "metadata": {
        "id": "mbIiM8JBsyLi",
        "colab": {
          "base_uri": "https://localhost:8080/"
        },
        "outputId": "967e14e8-07f8-4d9a-dbbe-7d98731cbf87"
      },
      "execution_count": 3,
      "outputs": [
        {
          "output_type": "stream",
          "name": "stdout",
          "text": [
            "<class 'int'>\n",
            "<class 'int'>\n",
            "<class 'int'>\n"
          ]
        }
      ]
    },
    {
      "cell_type": "markdown",
      "source": [
        "## 부동소수점 숫자 (Float)\n",
        "부동소수점 숫자는 소수점이 포함된 숫자입니다."
      ],
      "metadata": {
        "id": "3Pf1BlsZVAii"
      }
    },
    {
      "cell_type": "code",
      "source": [
        "x = 1.10       # 실수 (float)\n",
        "y = 1.0        # 실수 (float)\n",
        "z = -34.44     # 음의 실수 (float)\n",
        "\n",
        "print(type(x))  # x의 타입을 출력\n",
        "print(type(y))  # y의 타입을 출력\n",
        "print(type(z))  # z의 타입을 출력"
      ],
      "metadata": {
        "id": "4CtuDBmGtAfv",
        "colab": {
          "base_uri": "https://localhost:8080/"
        },
        "outputId": "53999d29-756b-44f7-c82a-0b5d09345769"
      },
      "execution_count": 4,
      "outputs": [
        {
          "output_type": "stream",
          "name": "stdout",
          "text": [
            "<class 'float'>\n",
            "<class 'float'>\n",
            "<class 'float'>\n"
          ]
        }
      ]
    },
    {
      "cell_type": "markdown",
      "source": [
        "## 과학적 표기법 (Scientific Notation)\n",
        "숫자를 간편하게 표현하기 위해 사용되며, e나 E는 10의 거듭제곱을 나타냅니다.   \n",
        "과학적 표기법은 대수학적인 방식으로 큰 숫자나 작은 숫자를 표현할 때 유용하게 사용됩니다.  \n",
        "과학적 표기법으로 입력된 숫자들은 모두 float(부동소수점) 타입으로 처리됩니다.\n"
      ],
      "metadata": {
        "id": "mJcfd9SdV1EW"
      }
    },
    {
      "cell_type": "code",
      "source": [
        "x = 35e3  # 35 * 10^3\n",
        "y = 12E4  # 12 * 10^4\n",
        "z = -87.7E100  # -87.7 * 10^100\n",
        "\n",
        "print(type(x))  # x의 타입을 출력\n",
        "print(type(y))  # y의 타입을 출력\n",
        "print(type(z))  # z의 타입을 출력"
      ],
      "metadata": {
        "id": "nekft39Zs8HB",
        "colab": {
          "base_uri": "https://localhost:8080/"
        },
        "outputId": "d6e70c34-4a66-4fec-a26d-88b0daff4b7b"
      },
      "execution_count": 5,
      "outputs": [
        {
          "output_type": "stream",
          "name": "stdout",
          "text": [
            "<class 'float'>\n",
            "<class 'float'>\n",
            "<class 'float'>\n"
          ]
        }
      ]
    },
    {
      "cell_type": "markdown",
      "source": [
        "## 복소수 (Complex)\n",
        "복소수는 a + bj 형식으로 나타내는 숫자입니다. 여기서 a는 실수부, b는 허수부이며, j는 허수 단위입니다."
      ],
      "metadata": {
        "id": "puWjrx5NVJl2"
      }
    },
    {
      "cell_type": "code",
      "source": [
        "x = 3 + 5j  # 실수부와 허수부를 가진 복소수\n",
        "y = 5j      # 허수부만 있는 복소수\n",
        "z = -5j     # 허수부만 있는 복소수, 음수 허수\n",
        "print(type(x))  # x의 타입을 출력\n",
        "print(type(y))  # y의 타입을 출력\n",
        "print(type(z))  # z의 타입을 출력"
      ],
      "metadata": {
        "id": "DpVjg1vdtK-_"
      },
      "execution_count": null,
      "outputs": []
    },
    {
      "cell_type": "markdown",
      "source": [
        "## 타입 변환 (Type Conversion)\n",
        "Python에서 숫자는 다른 타입으로 변환이 가능합니다. 예를 들어, 문자열을 숫자로 변환하거나, 부동소수점 숫자를 정수로 변환할 수 있습니다.\n",
        "\n",
        "*   int(): 문자열이나 부동소수점 숫자를 정수로 변환합니다.\n",
        "*   float(): 문자열이나 정수를 부동소수점 숫자로 변환합니다."
      ],
      "metadata": {
        "id": "IkxHlnM4VR7C"
      }
    },
    {
      "cell_type": "code",
      "source": [
        "x = 1    # int\n",
        "y = 2.8  # float\n",
        "z = 1j   # complex\n",
        "\n",
        "# convert from int to float:\n",
        "a = float(x)  # x를 float로 변환\n",
        "\n",
        "# convert from float to int:\n",
        "b = int(y)  # y를 int로 변환\n",
        "\n",
        "# convert from int to complex:\n",
        "c = complex(x)  # x를 complex로 변환\n",
        "\n",
        "print(a)  # float로 변환된 값 출력\n",
        "print(b)  # int로 변환된 값 출력\n",
        "print(c)  # complex로 변환된 값 출력\n",
        "\n",
        "print(type(a))  # a의 타입 출력\n",
        "print(type(b))  # b의 타입 출력\n",
        "print(type(c))  # c의 타입 출력"
      ],
      "metadata": {
        "id": "MiH3MVtrtVsv",
        "colab": {
          "base_uri": "https://localhost:8080/"
        },
        "outputId": "f91d7758-f886-4778-b765-1f534a0f1b90"
      },
      "execution_count": 6,
      "outputs": [
        {
          "output_type": "stream",
          "name": "stdout",
          "text": [
            "1.0\n",
            "2\n",
            "(1+0j)\n",
            "<class 'float'>\n",
            "<class 'int'>\n",
            "<class 'complex'>\n"
          ]
        }
      ]
    },
    {
      "cell_type": "markdown",
      "source": [
        "## 랜덤 숫자 (Random Numbers)\n",
        "Python에서 random 모듈을 사용하여 1과 10 사이의 랜덤한 정수를 출력합니다. random.randrange(a, b)는 a부터 b-1까지의 범위 내에서 랜덤한 정수를 반환합니다."
      ],
      "metadata": {
        "id": "gr_MuClnWlP5"
      }
    },
    {
      "cell_type": "code",
      "source": [
        "import random  # random 모듈을 임포트\n",
        "\n",
        "print(random.randrange(1, 10))  # 1부터 9까지의 랜덤 정수 출력"
      ],
      "metadata": {
        "id": "ddJVqzHFtau3"
      },
      "execution_count": null,
      "outputs": []
    }
  ]
}