{
  "nbformat": 4,
  "nbformat_minor": 0,
  "metadata": {
    "colab": {
      "provenance": [],
      "authorship_tag": "ABX9TyPxaOmSgMI7RWRSFwvYxYIo",
      "include_colab_link": true
    },
    "kernelspec": {
      "name": "python3",
      "display_name": "Python 3"
    },
    "language_info": {
      "name": "python"
    }
  },
  "cells": [
    {
      "cell_type": "markdown",
      "metadata": {
        "id": "view-in-github",
        "colab_type": "text"
      },
      "source": [
        "<a href=\"https://colab.research.google.com/github/denverkim/Python-for-Beginners/blob/main/%EA%B3%84%EC%8A%B9_%EC%97%B0%EC%8A%B5%EB%AC%B8%EC%A0%9C.ipynb\" target=\"_parent\"><img src=\"https://colab.research.google.com/assets/colab-badge.svg\" alt=\"Open In Colab\"/></a>"
      ]
    },
    {
      "cell_type": "markdown",
      "source": [
        "# ✅ 1. Person 계승 (Person → Runner)\n",
        "Person 클래스와 Runner 클래스를 만든 후, 객체를 생성하여 사용하시오."
      ],
      "metadata": {
        "id": "unovUEr4AMar"
      }
    },
    {
      "cell_type": "code",
      "execution_count": 1,
      "metadata": {
        "colab": {
          "base_uri": "https://localhost:8080/"
        },
        "id": "SVgJSJVSAIsG",
        "outputId": "78363c7b-d573-4152-d015-76c80224e0cf"
      },
      "outputs": [
        {
          "output_type": "stream",
          "name": "stdout",
          "text": [
            "I am a person\n",
            "I can run\n"
          ]
        }
      ],
      "source": [
        "class Person:\n",
        "    def speak(self):\n",
        "        print(\"I am a person\")\n",
        "\n",
        "class Runner(Person):\n",
        "    def run(self):\n",
        "        print(\"I can run\")\n",
        "\n",
        "p = Runner()\n",
        "p.speak()  # From Person\n",
        "p.run()    # From Runner"
      ]
    },
    {
      "cell_type": "markdown",
      "source": [
        "✅ 2. Mammal 계승 (Mammal → Dog, Cat)\n",
        "\n",
        "Mammal, Dog, Cat 클래스를 만든 후, 객체를 생성하여 사용하시오."
      ],
      "metadata": {
        "id": "diW34EHsAR5S"
      }
    },
    {
      "cell_type": "code",
      "source": [
        "class Mammal:\n",
        "    def feed_milk(self):\n",
        "        print(\"Feeds milk to young\")\n",
        "\n",
        "class Dog(Mammal):\n",
        "    def bark(self):\n",
        "        print(\"Woof!\")\n",
        "\n",
        "class Cat(Mammal):\n",
        "    def meow(self):\n",
        "        print(\"Meow!\")\n",
        "\n",
        "d = Dog()\n",
        "d.feed_milk()\n",
        "d.bark()\n",
        "\n",
        "c = Cat()\n",
        "c.feed_milk()\n",
        "c.meow()"
      ],
      "metadata": {
        "id": "nmaecQzpBq-5"
      },
      "execution_count": null,
      "outputs": []
    },
    {
      "cell_type": "markdown",
      "source": [
        "# ✅ 3. American 계승 (American → NewYorker)\n",
        "American이라는 클래스를 정의하고, 이를 상속받은 서브클래스 NewYorker를 정의하시오.\n",
        "널 오퍼레이션(null operation)을 위해 pass를 사용하시오.\n",
        "\n",
        "**Expected Output:**  \n",
        "\n",
        "```\n",
        "<main.American object at 0x0000023990D376D8>  \n",
        "<main.NewYorker object at 0x0000023990D376A0>\n",
        "```\n",
        "\n"
      ],
      "metadata": {
        "id": "bF5PRwgmAQm6"
      }
    },
    {
      "cell_type": "markdown",
      "source": [
        "class American:\n",
        "    pass\n",
        "\n",
        "class NewYorker(American):\n",
        "    pass\n",
        "\n",
        "am = American()\n",
        "ny = NewYorker()\n",
        "print(am)\n",
        "print(ny)"
      ],
      "metadata": {
        "id": "eL4MKE7-AZAS"
      }
    },
    {
      "cell_type": "markdown",
      "source": [
        "# ✅ 4. Shape 계승 (Shape → Square)\n",
        "Shape 클래스와 이를 상속한 서브클래스 Square를 정의하시오.  \n",
        "\n",
        "*   Square 클래스는 length 변수를 갖는 __init__ 메서드를 포함함.\n",
        "*   두 클래스 모두 area 메서드를 갖고 있으며, Shape의 기본 영역은 0으로 함.  \n",
        "*   널 오퍼레이션을 위해 pass를 사용하시오.\n",
        "\n",
        "**Main operations**\n",
        "\n",
        "```\n",
        "aSquare = Square(3)\n",
        "print(aSquare.area())\n",
        "```\n",
        "\n",
        "\n",
        "**Output**  \n",
        "`9`"
      ],
      "metadata": {
        "id": "azx1IoHfAcCQ"
      }
    },
    {
      "cell_type": "code",
      "source": [
        "class Shape:\n",
        "    def area(self):\n",
        "        return 0\n",
        "\n",
        "class Square(Shape):\n",
        "    def __init__(self, length):\n",
        "        self.length = length\n",
        "\n",
        "    def area(self):\n",
        "        return self.length ** 2\n",
        "\n",
        "aSquare = Square(3)\n",
        "print(aSquare.area())  # Output: 9"
      ],
      "metadata": {
        "colab": {
          "base_uri": "https://localhost:8080/"
        },
        "id": "Mw-nIAquAc6Y",
        "outputId": "d058836e-e461-463f-fd2f-d23ffbe80e0b"
      },
      "execution_count": 2,
      "outputs": [
        {
          "output_type": "stream",
          "name": "stdout",
          "text": [
            "9\n"
          ]
        }
      ]
    },
    {
      "cell_type": "markdown",
      "source": [
        "# ✅ 5. Person 계승 (Person → Male, Female)\n",
        "Person 클래스를 정의하고, 이를 상속한 두 자녀 클래스 Male, Female을 정의하시오.  \n",
        "모든 클래스는 getGender 메서드를 포함하며, Male은 \"Male\", Female은 \"Female\"을 출력하시오.\n",
        "\n",
        "**Main operations**\n",
        "\n",
        "```\n",
        "aMale = Male()\n",
        "print(aMale.getGender())\n",
        "```\n",
        "\n",
        "**Expected Output**\n",
        "\n",
        "\n",
        "```\n",
        "Male\n",
        "Female\n",
        "```"
      ],
      "metadata": {
        "id": "JV2j8y-2AgGg"
      }
    },
    {
      "cell_type": "code",
      "source": [
        "class Person:\n",
        "    def getGender(self):\n",
        "        pass\n",
        "\n",
        "class Male(Person):\n",
        "    def getGender(self):\n",
        "        return \"Male\"\n",
        "\n",
        "class Female(Person):\n",
        "    def getGender(self):\n",
        "        return \"Female\"\n",
        "\n",
        "aMale = Male()\n",
        "aFemale = Female()\n",
        "print(aMale.getGender())   # Output: Male\n",
        "print(aFemale.getGender()) # Output: Female"
      ],
      "metadata": {
        "colab": {
          "base_uri": "https://localhost:8080/"
        },
        "id": "K9O8CrU1Ae1S",
        "outputId": "842d1555-cc4d-45c2-b5e1-59bfcdb0e4e2"
      },
      "execution_count": 3,
      "outputs": [
        {
          "output_type": "stream",
          "name": "stdout",
          "text": [
            "Male\n",
            "Female\n"
          ]
        }
      ]
    }
  ]
}