{
  "nbformat": 4,
  "nbformat_minor": 0,
  "metadata": {
    "colab": {
      "provenance": [],
      "authorship_tag": "ABX9TyN2KMXuTJcTdkmSQA9UHAQr",
      "include_colab_link": true
    },
    "kernelspec": {
      "name": "python3",
      "display_name": "Python 3"
    },
    "language_info": {
      "name": "python"
    }
  },
  "cells": [
    {
      "cell_type": "markdown",
      "metadata": {
        "id": "view-in-github",
        "colab_type": "text"
      },
      "source": [
        "<a href=\"https://colab.research.google.com/github/denverkim/Python-for-Beginners/blob/main/2_3_1_%EB%8D%B0%EC%9D%B4%ED%84%B0_%ED%83%80%EC%9E%85%2C_%EB%B3%80%EC%88%98_%EC%97%B0%EC%8A%B5%EB%AC%B8%EC%A0%9C.ipynb\" target=\"_parent\"><img src=\"https://colab.research.google.com/assets/colab-badge.svg\" alt=\"Open In Colab\"/></a>"
      ]
    },
    {
      "cell_type": "code",
      "execution_count": null,
      "metadata": {
        "id": "y4EueHjxYh-i"
      },
      "outputs": [],
      "source": [
        "#세금계산프로그램\n",
        "rate = .2\n",
        "std_ded = 10000\n",
        "dep_ded = 3000\n",
        "\n",
        "income = float(input('Enter the gross income: '))\n",
        "num_dep = int(input('Enter the number of dependents: '))\n",
        "tax = (income - std_ded - dep_ded * num_dep)*rate\n",
        "print('The income tax is $' + str(tax))"
      ]
    }
  ]
}