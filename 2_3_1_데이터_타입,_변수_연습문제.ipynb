{
  "nbformat": 4,
  "nbformat_minor": 0,
  "metadata": {
    "colab": {
      "provenance": [],
      "authorship_tag": "ABX9TyObxlu2/LzVOwAXhuTuXEr3",
      "include_colab_link": true
    },
    "kernelspec": {
      "name": "python3",
      "display_name": "Python 3"
    },
    "language_info": {
      "name": "python"
    }
  },
  "cells": [
    {
      "cell_type": "markdown",
      "metadata": {
        "id": "view-in-github",
        "colab_type": "text"
      },
      "source": [
        "<a href=\"https://colab.research.google.com/github/denverkim/Python-for-Beginners/blob/main/2_3_1_%EB%8D%B0%EC%9D%B4%ED%84%B0_%ED%83%80%EC%9E%85%2C_%EB%B3%80%EC%88%98_%EC%97%B0%EC%8A%B5%EB%AC%B8%EC%A0%9C.ipynb\" target=\"_parent\"><img src=\"https://colab.research.google.com/assets/colab-badge.svg\" alt=\"Open In Colab\"/></a>"
      ]
    },
    {
      "cell_type": "code",
      "source": [
        "# Write a program that asks the user to enter their name and their age. Print out a message addressed to them that tells them the year that they will turn 100 years old.\n",
        "\n",
        "name = input(\"이름은 무엇입니까? \")\n",
        "age = int(input(\"나이는? \"))\n",
        "print(\"%s, %d년에 100살이 되다\" % (name, 2025+100-age))"
      ],
      "metadata": {
        "id": "s2Mr2g7Xh1gE",
        "outputId": "7af65fb5-b65c-48d4-eaed-7d3437d25500",
        "colab": {
          "base_uri": "https://localhost:8080/"
        }
      },
      "execution_count": 11,
      "outputs": [
        {
          "output_type": "stream",
          "name": "stdout",
          "text": [
            "이름은 무엇입니까? 박지민\n",
            "나이는? 23\n",
            "박지민, 2102년에 100살이 되다\n"
          ]
        }
      ]
    },
    {
      "cell_type": "code",
      "source": [
        "#Write a program that prompts the user to input their weight and height, and then outputs their BMI. To work out your BMI, divide your weight in kilograms by your height in meters squared (BMI = w / h*h).\n",
        "weight = int(input(\"몸무게를 입력하시오 (kg) \"))\n",
        "height = int(input(\"키를 입력하시오 (cm) \"))/100\n",
        "bmi = weight / (height * height)\n",
        "print(\"당신의 BMI 점수는 %.2f입니다.\" % bmi)"
      ],
      "metadata": {
        "id": "IDrnpwAPiAid",
        "outputId": "4ad41ddc-3959-478f-a0fe-a95f96e69269",
        "colab": {
          "base_uri": "https://localhost:8080/"
        }
      },
      "execution_count": 16,
      "outputs": [
        {
          "output_type": "stream",
          "name": "stdout",
          "text": [
            "몸무게를 입력하시오 (kg) 70\n",
            "키를 입력하시오 (cm) 170\n",
            "당신의 BMI 점수는 24.22입니다.\n"
          ]
        }
      ]
    },
    {
      "cell_type": "code",
      "execution_count": null,
      "metadata": {
        "id": "y4EueHjxYh-i"
      },
      "outputs": [],
      "source": [
        "#세금계산 프로그램\n",
        "rate = .2\n",
        "std_ded = 10000\n",
        "dep_ded = 3000\n",
        "\n",
        "income = float(input('Enter the gross income: '))\n",
        "num_dep = int(input('Enter the number of dependents: '))\n",
        "tax = (income - std_ded - dep_ded * num_dep)*rate\n",
        "print('The income tax is $' + str(tax))"
      ]
    }
  ]
}