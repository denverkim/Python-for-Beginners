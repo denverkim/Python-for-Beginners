{
  "nbformat": 4,
  "nbformat_minor": 0,
  "metadata": {
    "colab": {
      "provenance": [],
      "authorship_tag": "ABX9TyP0ZucgJB4m1z0umrrgtuJS",
      "include_colab_link": true
    },
    "kernelspec": {
      "name": "python3",
      "display_name": "Python 3"
    },
    "language_info": {
      "name": "python"
    }
  },
  "cells": [
    {
      "cell_type": "markdown",
      "metadata": {
        "id": "view-in-github",
        "colab_type": "text"
      },
      "source": [
        "<a href=\"https://colab.research.google.com/github/denverkim/Python-for-Beginners/blob/main/3_3_1_For_%EC%97%B0%EC%8A%B5%EB%AC%B8%EC%A0%9C.ipynb\" target=\"_parent\"><img src=\"https://colab.research.google.com/assets/colab-badge.svg\" alt=\"Open In Colab\"/></a>"
      ]
    },
    {
      "cell_type": "markdown",
      "source": [
        "# 숫자 더하기\n",
        "Write a Python program to sum all the items in the list [1, 2, -8] 리스트에 있는 숫자를 다 더하는 프로그램을 만드시요."
      ],
      "metadata": {
        "id": "36gMML7Fg3D4"
      }
    },
    {
      "cell_type": "code",
      "execution_count": 1,
      "metadata": {
        "colab": {
          "base_uri": "https://localhost:8080/"
        },
        "id": "fUjOlFiKgyRv",
        "outputId": "06a29b1a-06c9-4ff3-9a09-fe947fd3401e"
      },
      "outputs": [
        {
          "output_type": "stream",
          "name": "stdout",
          "text": [
            "-5\n"
          ]
        }
      ],
      "source": [
        "sum = 0\n",
        "nums = [1,2,-8]\n",
        "for i in nums:\n",
        "    sum += i\n",
        "print(sum)"
      ]
    },
    {
      "cell_type": "markdown",
      "source": [
        "# 가장 큰 숫자 찾기\n",
        "Write a Python program to get the largest number from the list [1, 2, -8, 0] 리스트에서 가장 큰 숫자를 찾는 프로그램을 만드시요."
      ],
      "metadata": {
        "id": "eIJh_B5-g_na"
      }
    },
    {
      "cell_type": "code",
      "source": [
        "nums = [1,2,-8,0]\n",
        "largest = nums[0]\n",
        "for i in nums:\n",
        "    if i > largest:\n",
        "        largest = i\n",
        "print(largest)"
      ],
      "metadata": {
        "colab": {
          "base_uri": "https://localhost:8080/"
        },
        "id": "Y7Xdd02ug9cx",
        "outputId": "72c6f32c-a6b4-4787-ea99-ce1bc24a197a"
      },
      "execution_count": 2,
      "outputs": [
        {
          "output_type": "stream",
          "name": "stdout",
          "text": [
            "2\n"
          ]
        }
      ]
    },
    {
      "cell_type": "markdown",
      "source": [
        "# 나이 계산\n",
        "Write a program that translates the years of birth into ages using list and for loop. For loop와 리스트를 이용해서 년도를 나이로 바꾸는 프로그램을 짜시요."
      ],
      "metadata": {
        "id": "57YibQZchLRP"
      }
    },
    {
      "cell_type": "code",
      "source": [
        "year = [2000, 1994, 2003, 1990, 1992, 1996]\n",
        "age = []\n",
        "for i in year:\n",
        "    age.append(2025-i)\n",
        "age"
      ],
      "metadata": {
        "colab": {
          "base_uri": "https://localhost:8080/"
        },
        "id": "vlR706FEhIen",
        "outputId": "aa38940d-958d-45d6-9f73-17d698c7c251"
      },
      "execution_count": 8,
      "outputs": [
        {
          "output_type": "execute_result",
          "data": {
            "text/plain": [
              "[25, 31, 22, 35, 33, 29]"
            ]
          },
          "metadata": {},
          "execution_count": 8
        }
      ]
    }
  ]
}