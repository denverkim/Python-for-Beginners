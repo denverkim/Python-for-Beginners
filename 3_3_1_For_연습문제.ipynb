{
  "nbformat": 4,
  "nbformat_minor": 0,
  "metadata": {
    "colab": {
      "provenance": [],
      "authorship_tag": "ABX9TyOad7iplXT8iA2hiKpDD9b0",
      "include_colab_link": true
    },
    "kernelspec": {
      "name": "python3",
      "display_name": "Python 3"
    },
    "language_info": {
      "name": "python"
    }
  },
  "cells": [
    {
      "cell_type": "markdown",
      "metadata": {
        "id": "view-in-github",
        "colab_type": "text"
      },
      "source": [
        "<a href=\"https://colab.research.google.com/github/denverkim/Python-for-Beginners/blob/main/3_3_1_For_%EC%97%B0%EC%8A%B5%EB%AC%B8%EC%A0%9C.ipynb\" target=\"_parent\"><img src=\"https://colab.research.google.com/assets/colab-badge.svg\" alt=\"Open In Colab\"/></a>"
      ]
    },
    {
      "cell_type": "markdown",
      "source": [
        "# 1. 숫자 더하기\n",
        "리스트 [1, 2, -8] 에 있는 모든 숫자를 더하는 프로그램을 작성하시요."
      ],
      "metadata": {
        "id": "36gMML7Fg3D4"
      }
    },
    {
      "cell_type": "code",
      "execution_count": null,
      "metadata": {
        "colab": {
          "base_uri": "https://localhost:8080/"
        },
        "id": "fUjOlFiKgyRv",
        "outputId": "06a29b1a-06c9-4ff3-9a09-fe947fd3401e"
      },
      "outputs": [
        {
          "output_type": "stream",
          "name": "stdout",
          "text": [
            "-5\n"
          ]
        }
      ],
      "source": [
        "numbers = [1, 2, -8]\n",
        "total = 0\n",
        "\n",
        "for num in numbers:\n",
        "    total += num\n",
        "\n",
        "print(\"Sum of all items:\", total)"
      ]
    },
    {
      "cell_type": "markdown",
      "source": [
        "# 2. 가장 큰 숫자 찾기\n",
        "리스트 [1, 2, -8, 0] 에서 가장 큰 숫자를 찾는 프로그램을 작성하시요."
      ],
      "metadata": {
        "id": "eIJh_B5-g_na"
      }
    },
    {
      "cell_type": "code",
      "source": [
        "nums = [1,2,-8,0]\n",
        "largest = nums[0]\n",
        "\n",
        "for i in nums:\n",
        "    if i > largest:\n",
        "        largest = i\n",
        "\n",
        "print(\"Largest number is:\", largest)"
      ],
      "metadata": {
        "colab": {
          "base_uri": "https://localhost:8080/"
        },
        "id": "Y7Xdd02ug9cx",
        "outputId": "72c6f32c-a6b4-4787-ea99-ce1bc24a197a"
      },
      "execution_count": null,
      "outputs": [
        {
          "output_type": "stream",
          "name": "stdout",
          "text": [
            "2\n"
          ]
        }
      ]
    },
    {
      "cell_type": "markdown",
      "source": [
        "# 3. 나이 계산\n",
        "출생 연도 리스트를 나이 리스트로 변환하는 프로그램을 작성하시요. (현재 연도는 2020년으로 가정)"
      ],
      "metadata": {
        "id": "57YibQZchLRP"
      }
    },
    {
      "cell_type": "code",
      "source": [
        "birth_years = [2000, 1994, 2003, 1990, 1992, 1996]\n",
        "current_years = 2025\n",
        "ages = []\n",
        "\n",
        "for year in birth_years:\n",
        "    ages.append(current_years-year)\n",
        "\n",
        "print(\"Ages:\", ages)"
      ],
      "metadata": {
        "colab": {
          "base_uri": "https://localhost:8080/"
        },
        "id": "vlR706FEhIen",
        "outputId": "28799386-3606-49f1-86e6-3f5121dedad6"
      },
      "execution_count": 1,
      "outputs": [
        {
          "output_type": "stream",
          "name": "stdout",
          "text": [
            "Ages: [25, 31, 22, 35, 33, 29]\n"
          ]
        }
      ]
    }
  ]
}