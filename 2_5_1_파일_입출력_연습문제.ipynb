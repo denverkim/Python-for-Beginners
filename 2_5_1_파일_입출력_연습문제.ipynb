{
  "nbformat": 4,
  "nbformat_minor": 0,
  "metadata": {
    "colab": {
      "provenance": [],
      "authorship_tag": "ABX9TyOpBFhkYAse3FpBerAyECpS",
      "include_colab_link": true
    },
    "kernelspec": {
      "name": "python3",
      "display_name": "Python 3"
    },
    "language_info": {
      "name": "python"
    }
  },
  "cells": [
    {
      "cell_type": "markdown",
      "metadata": {
        "id": "view-in-github",
        "colab_type": "text"
      },
      "source": [
        "<a href=\"https://colab.research.google.com/github/denverkim/Python-for-Beginners/blob/main/2_5_1_%ED%8C%8C%EC%9D%BC_%EC%9E%85%EC%B6%9C%EB%A0%A5_%EC%97%B0%EC%8A%B5%EB%AC%B8%EC%A0%9C.ipynb\" target=\"_parent\"><img src=\"https://colab.research.google.com/assets/colab-badge.svg\" alt=\"Open In Colab\"/></a>"
      ]
    },
    {
      "cell_type": "markdown",
      "source": [
        "# 텍스트 파일을 만든 후 전체 텍스트 파일을 읽는 프로그램"
      ],
      "metadata": {
        "id": "6ikeT7-DpRlU"
      }
    },
    {
      "cell_type": "code",
      "execution_count": 1,
      "metadata": {
        "colab": {
          "base_uri": "https://localhost:8080/"
        },
        "id": "7WSOBpQWomrG",
        "outputId": "0bf8953e-02bc-499c-b3d1-87c8412a3144"
      },
      "outputs": [
        {
          "output_type": "stream",
          "name": "stdout",
          "text": [
            "Hello, world!\n",
            "This is a sample file.\n",
            "Enjoy coding!\n"
          ]
        }
      ],
      "source": [
        "# 파일 생성 및 쓰기\n",
        "with open(\"example.txt\", \"w\") as f:\n",
        "    f.write(\"Hello, world!\\nThis is a sample file.\\nEnjoy coding!\")\n",
        "\n",
        "# 전체 텍스트 파일 읽기\n",
        "with open(\"example.txt\", \"r\") as f:\n",
        "    content = f.read()\n",
        "    print(content)"
      ]
    },
    {
      "cell_type": "markdown",
      "source": [
        "# 줄별로 파일을 읽은 후 리스트에 저장하는 프로그램"
      ],
      "metadata": {
        "id": "wM35KKJipV-w"
      }
    },
    {
      "cell_type": "code",
      "source": [
        "with open(\"example.txt\", \"r\") as f:\n",
        "    lines = f.readlines()  # 줄 단위로 읽어 리스트에 저장\n",
        "print(lines)"
      ],
      "metadata": {
        "colab": {
          "base_uri": "https://localhost:8080/"
        },
        "id": "u-p82DCypUyT",
        "outputId": "bf70238a-1f49-4a69-d6ca-db8a1c7dbd7f"
      },
      "execution_count": 2,
      "outputs": [
        {
          "output_type": "stream",
          "name": "stdout",
          "text": [
            "['Hello, world!\\n', 'This is a sample file.\\n', 'Enjoy coding!']\n"
          ]
        }
      ]
    },
    {
      "cell_type": "markdown",
      "source": [
        "# 파일을 줄별로 읽은 후 변수에 저장하고 각 줄 단어 수 카운트하기"
      ],
      "metadata": {
        "id": "6HSNXSTLpd5D"
      }
    },
    {
      "cell_type": "code",
      "source": [
        "with open(\"example.txt\", \"r\") as f:\n",
        "    lines = f.readlines()\n",
        "\n",
        "line_word_counts = []\n",
        "for line in lines:\n",
        "    words = line.split()  # 공백 기준으로 단어 분리\n",
        "    line_word_counts.append(len(words))\n",
        "\n",
        "print(\"Lines:\", lines)\n",
        "print(\"Word counts per line:\", line_word_counts)"
      ],
      "metadata": {
        "colab": {
          "base_uri": "https://localhost:8080/"
        },
        "id": "-Do5FcgfpZaD",
        "outputId": "5cec7a7e-2a52-4d76-e327-46c318c7cd85"
      },
      "execution_count": 3,
      "outputs": [
        {
          "output_type": "stream",
          "name": "stdout",
          "text": [
            "Lines: ['Hello, world!\\n', 'This is a sample file.\\n', 'Enjoy coding!']\n",
            "Word counts per line: [2, 5, 2]\n"
          ]
        }
      ]
    },
    {
      "cell_type": "markdown",
      "source": [
        "# 텍스트 파일을 열고 문장, 단어, 글자 수 세기"
      ],
      "metadata": {
        "id": "fMedx_s7pn4j"
      }
    },
    {
      "cell_type": "code",
      "source": [
        "import re\n",
        "\n",
        "with open(\"example.txt\", \"r\") as f:\n",
        "    text = f.read()\n",
        "\n",
        "# 문장 수 ('.', '!', '?' 로 구분)\n",
        "sentences = re.split(r'[.!?]+', text)\n",
        "sentences = [s.strip() for s in sentences if s.strip()]  # 빈 문장 제거\n",
        "\n",
        "# 단어 수 (공백 기준 분리)\n",
        "words = text.split()\n",
        "\n",
        "# 글자 수 (공백 포함)\n",
        "chars = len(text)\n",
        "\n",
        "print(\"Number of sentences:\", len(sentences))\n",
        "print(\"Number of words:\", len(words))\n",
        "print(\"Number of characters:\", chars)"
      ],
      "metadata": {
        "colab": {
          "base_uri": "https://localhost:8080/"
        },
        "id": "u2J5p8oapcQR",
        "outputId": "31eeb92d-97ff-45f2-a96a-883cf2535178"
      },
      "execution_count": 4,
      "outputs": [
        {
          "output_type": "stream",
          "name": "stdout",
          "text": [
            "Number of sentences: 3\n",
            "Number of words: 9\n",
            "Number of characters: 50\n"
          ]
        }
      ]
    }
  ]
}