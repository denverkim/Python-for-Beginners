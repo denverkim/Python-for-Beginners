{
  "nbformat": 4,
  "nbformat_minor": 0,
  "metadata": {
    "colab": {
      "provenance": [],
      "authorship_tag": "ABX9TyO2EmGbV3fMte4DT2uph0Qn",
      "include_colab_link": true
    },
    "kernelspec": {
      "name": "python3",
      "display_name": "Python 3"
    },
    "language_info": {
      "name": "python"
    }
  },
  "cells": [
    {
      "cell_type": "markdown",
      "metadata": {
        "id": "view-in-github",
        "colab_type": "text"
      },
      "source": [
        "<a href=\"https://colab.research.google.com/github/denverkim/Python-for-Beginners/blob/main/3_1_1_If_%EC%97%B0%EC%8A%B5%EB%AC%B8%EC%A0%9C.ipynb\" target=\"_parent\"><img src=\"https://colab.research.google.com/assets/colab-badge.svg\" alt=\"Open In Colab\"/></a>"
      ]
    },
    {
      "cell_type": "markdown",
      "source": [
        "## 1. 짝수 홀수 출력 프로그램\n",
        "사용자에게 숫자를 입력받아, 그 숫자가 짝수인지 홀수인지 판단하여 적절한 메시지를 출력하는 프로그램을 작성하세요."
      ],
      "metadata": {
        "id": "SoUACeMheTs8"
      }
    },
    {
      "cell_type": "code",
      "execution_count": null,
      "metadata": {
        "colab": {
          "base_uri": "https://localhost:8080/"
        },
        "id": "QpqSBrtleN6y",
        "outputId": "ee8a808c-c46f-41ad-8b25-1a42262707e1"
      },
      "outputs": [
        {
          "output_type": "stream",
          "name": "stdout",
          "text": [
            "숫자를 넣으세요: 3\n",
            "3는 홀수입니다.\n"
          ]
        }
      ],
      "source": [
        "num = int(input(\"숫자를 입력하세요: \"))\n",
        "\n",
        "if num % 2 == 0:\n",
        "    print(f\"{num}은(는) 짝수입니다.\")\n",
        "else:\n",
        "    print(f\"{num}은(는) 홀수입니다.\")"
      ]
    },
    {
      "cell_type": "markdown",
      "source": [
        "## 2. 성적 처리 프로그램\n",
        "사용자로부터 숫자 점수를 입력받아, 해당 점수에 맞는 문자 성적(A, B, C, D, F)을 출력하는 프로그램을 작성하세요.\n",
        "\n",
        "*   90점 이상: A\n",
        "*   80점 이상 90점 미만: B\n",
        "*   70점 이상 80점 미만: C\n",
        "*   60점 이상 70점 미만: D\n",
        "*   60점 미만: F"
      ],
      "metadata": {
        "id": "SD9XpfZje250"
      }
    },
    {
      "cell_type": "code",
      "source": [
        "score = int(input(\"숫자 점수를 입력하세요: \"))\n",
        "\n",
        "if score >= 90:\n",
        "    grade = \"A\"\n",
        "elif score >= 80:\n",
        "    grade = \"B\"\n",
        "elif score >= 70:\n",
        "    grade = \"C\"\n",
        "elif score >= 60:\n",
        "    grade = \"D\"\n",
        "else:\n",
        "    grade = \"F\"\n",
        "\n",
        "print(f\"성적은 {grade}입니다.\")"
      ],
      "metadata": {
        "colab": {
          "base_uri": "https://localhost:8080/"
        },
        "id": "bwTqMglTevcs",
        "outputId": "fda34b59-48de-48d4-c725-41686f44e3e6"
      },
      "execution_count": null,
      "outputs": [
        {
          "output_type": "stream",
          "name": "stdout",
          "text": [
            "Enter the numeric grade: 30\n",
            "The letter grade is F\n"
          ]
        }
      ]
    },
    {
      "cell_type": "markdown",
      "source": [
        "## 3. 세금 계산 프로그램\n",
        "사용자로부터 연 소득을 입력받아, 아래 세율에 따라 납부해야 할 세금을 계산하고 출력하는 프로그램을 작성하세요.\n",
        "https://www.nts.go.kr/nts/cm/cntnts/cntntsView.do?mi=6594&cntntsId=7873\n"
      ],
      "metadata": {
        "id": "LTsjrGL3m1vp"
      }
    },
    {
      "cell_type": "code",
      "source": [
        "print(\"=\"*30)\n",
        "print(\"{:^25}\".format(\"세금계산 프로그램\"))\n",
        "print(\"=\"*30)\n",
        "\n",
        "income = int(input('과세표준액을 입력하세요 (만원): '))\n",
        "\n",
        "if income <= 1400:\n",
        "    tax = income * 0.6\n",
        "elif income <= 5000:\n",
        "    tax = 84 + (income - 1400)*.15\n",
        "elif income <= 8800:\n",
        "    tax = 624 + (income - 5000)*.24\n",
        "elif income <= 15000:\n",
        "    tax = 1536 + (income - 8800)*.35\n",
        "elif income <= 30000:\n",
        "    tax = 3706 + (income - 15000)*.38\n",
        "elif income <= 50000:\n",
        "    tax = 9406 + (income - 30000)*.4\n",
        "elif income <= 100000:\n",
        "    tax = 17406 + (income - 50000)*.42\n",
        "else:\n",
        "    tax = 38406 + (income - 100000)*.45\n",
        "\n",
        "print(f\"당신이 낼 근로소득세는 {int(tax)*10000:.2f} 원 입니다.\")"
      ],
      "metadata": {
        "id": "pGk6gONQmzky"
      },
      "execution_count": null,
      "outputs": []
    }
  ]
}