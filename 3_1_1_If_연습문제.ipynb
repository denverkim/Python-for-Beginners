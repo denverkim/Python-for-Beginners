{
  "nbformat": 4,
  "nbformat_minor": 0,
  "metadata": {
    "colab": {
      "provenance": [],
      "authorship_tag": "ABX9TyNXqWf3MKVuW9ho4b6yB5O6",
      "include_colab_link": true
    },
    "kernelspec": {
      "name": "python3",
      "display_name": "Python 3"
    },
    "language_info": {
      "name": "python"
    }
  },
  "cells": [
    {
      "cell_type": "markdown",
      "metadata": {
        "id": "view-in-github",
        "colab_type": "text"
      },
      "source": [
        "<a href=\"https://colab.research.google.com/github/denverkim/Python-for-Beginners/blob/main/3_1_1_If_%EC%97%B0%EC%8A%B5%EB%AC%B8%EC%A0%9C.ipynb\" target=\"_parent\"><img src=\"https://colab.research.google.com/assets/colab-badge.svg\" alt=\"Open In Colab\"/></a>"
      ]
    },
    {
      "cell_type": "markdown",
      "source": [
        "# 홀수 짝수 출력 프로그램\n",
        "Ask the user for a number. Depending on whether the number is even or odd, print out an appropriate message to the user. 사용자에게 숫자를 물은 후 숫자가 짝수냐 홀수냐에 따라 적절한 메세지를 출력하세요."
      ],
      "metadata": {
        "id": "SoUACeMheTs8"
      }
    },
    {
      "cell_type": "code",
      "execution_count": 6,
      "metadata": {
        "colab": {
          "base_uri": "https://localhost:8080/"
        },
        "id": "QpqSBrtleN6y",
        "outputId": "ee8a808c-c46f-41ad-8b25-1a42262707e1"
      },
      "outputs": [
        {
          "output_type": "stream",
          "name": "stdout",
          "text": [
            "숫자를 넣으세요: 3\n",
            "3는 홀수입니다.\n"
          ]
        }
      ],
      "source": [
        "input_num = int(input('숫자를 넣으세요: '))\n",
        "if (input_num % 2 == 0):\n",
        "    print(f'{input_num}는 짝수입니다.')\n",
        "else:\n",
        "    print(f'{input_num}는 홀수입니다.')"
      ]
    },
    {
      "cell_type": "markdown",
      "source": [
        "# 성적 처리 프로그램\n",
        "Determine and print the letter grade corresponding to an input numeric grade. 숫자점수에 따라 문자점수를 결정하고 프린트하시요."
      ],
      "metadata": {
        "id": "SD9XpfZje250"
      }
    },
    {
      "cell_type": "code",
      "source": [
        "score = int(input('Enter the numeric grade: '))\n",
        "if score >= 90:\n",
        "    print('The letter grade is A')\n",
        "elif score >= 80:\n",
        "    print('The letter grade is B')\n",
        "elif score >= 70:\n",
        "    print('The letter grade is C')\n",
        "elif score >= 60:\n",
        "    print('The letter grade is D')\n",
        "else:\n",
        "    print('The letter grade is F')"
      ],
      "metadata": {
        "colab": {
          "base_uri": "https://localhost:8080/"
        },
        "id": "bwTqMglTevcs",
        "outputId": "fda34b59-48de-48d4-c725-41686f44e3e6"
      },
      "execution_count": 7,
      "outputs": [
        {
          "output_type": "stream",
          "name": "stdout",
          "text": [
            "Enter the numeric grade: 30\n",
            "The letter grade is F\n"
          ]
        }
      ]
    }
  ]
}