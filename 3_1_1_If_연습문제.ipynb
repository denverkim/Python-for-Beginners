{
  "nbformat": 4,
  "nbformat_minor": 0,
  "metadata": {
    "colab": {
      "provenance": [],
      "authorship_tag": "ABX9TyOKAwsdy6AN2lZwbsh6Kfn2",
      "include_colab_link": true
    },
    "kernelspec": {
      "name": "python3",
      "display_name": "Python 3"
    },
    "language_info": {
      "name": "python"
    }
  },
  "cells": [
    {
      "cell_type": "markdown",
      "metadata": {
        "id": "view-in-github",
        "colab_type": "text"
      },
      "source": [
        "<a href=\"https://colab.research.google.com/github/denverkim/Python-for-Beginners/blob/main/3_1_1_If_%EC%97%B0%EC%8A%B5%EB%AC%B8%EC%A0%9C.ipynb\" target=\"_parent\"><img src=\"https://colab.research.google.com/assets/colab-badge.svg\" alt=\"Open In Colab\"/></a>"
      ]
    },
    {
      "cell_type": "markdown",
      "source": [
        "# 홀수 짝수 출력 프로그램\n",
        "Ask the user for a number. Depending on whether the number is even or odd, print out an appropriate message to the user. 사용자에게 숫자를 물은 후 숫자가 짝수냐 홀수냐에 따라 적절한 메세지를 출력하세요."
      ],
      "metadata": {
        "id": "SoUACeMheTs8"
      }
    },
    {
      "cell_type": "code",
      "execution_count": 6,
      "metadata": {
        "colab": {
          "base_uri": "https://localhost:8080/"
        },
        "id": "QpqSBrtleN6y",
        "outputId": "ee8a808c-c46f-41ad-8b25-1a42262707e1"
      },
      "outputs": [
        {
          "output_type": "stream",
          "name": "stdout",
          "text": [
            "숫자를 넣으세요: 3\n",
            "3는 홀수입니다.\n"
          ]
        }
      ],
      "source": [
        "input_num = int(input('숫자를 넣으세요: '))\n",
        "if (input_num % 2 == 0):\n",
        "    print(f'{input_num}는 짝수입니다.')\n",
        "else:\n",
        "    print(f'{input_num}는 홀수입니다.')"
      ]
    },
    {
      "cell_type": "markdown",
      "source": [
        "# 성적 처리 프로그램\n",
        "Determine and print the letter grade corresponding to an input numeric grade. 숫자점수에 따라 문자점수를 결정하고 프린트하시요."
      ],
      "metadata": {
        "id": "SD9XpfZje250"
      }
    },
    {
      "cell_type": "code",
      "source": [
        "score = int(input('Enter the numeric grade: '))\n",
        "if score >= 90:\n",
        "    print('The letter grade is A')\n",
        "elif score >= 80:\n",
        "    print('The letter grade is B')\n",
        "elif score >= 70:\n",
        "    print('The letter grade is C')\n",
        "elif score >= 60:\n",
        "    print('The letter grade is D')\n",
        "else:\n",
        "    print('The letter grade is F')"
      ],
      "metadata": {
        "colab": {
          "base_uri": "https://localhost:8080/"
        },
        "id": "bwTqMglTevcs",
        "outputId": "fda34b59-48de-48d4-c725-41686f44e3e6"
      },
      "execution_count": 7,
      "outputs": [
        {
          "output_type": "stream",
          "name": "stdout",
          "text": [
            "Enter the numeric grade: 30\n",
            "The letter grade is F\n"
          ]
        }
      ]
    },
    {
      "cell_type": "markdown",
      "source": [
        "# 세금 계산 프로그램\n",
        "The customer requests a program that computes a person’s income tax. The tax laws are as follows: 수입에 따른 세금을 계산하는 프로그램을 만드시오.\n",
        "https://www.nts.go.kr/nts/cm/cntnts/cntntsView.do?mi=6594&cntntsId=7873\n"
      ],
      "metadata": {
        "id": "LTsjrGL3m1vp"
      }
    },
    {
      "cell_type": "code",
      "source": [
        "print(\"=\"*30)\n",
        "print(\"{:^25}\".format(\"세금계산 프로그램\"))\n",
        "print(\"=\"*30)\n",
        "income = int(input('과세표준액을 입력하세요 (만원): '))\n",
        "if income <= 1400:\n",
        "    tax = income * 0.6\n",
        "elif income <= 5000:\n",
        "    tax = 84 + (income - 1400)*.15\n",
        "elif income <= 8800:\n",
        "    tax = 624 + (income - 5000)*.24\n",
        "elif income <= 15000:\n",
        "    tax = 1536 + (income - 8800)*.35\n",
        "elif income <= 30000:\n",
        "    tax = 3706 + (income - 15000)*.38\n",
        "elif income <= 50000:\n",
        "    tax = 9406 + (income - 30000)*.4\n",
        "elif income <= 100000:\n",
        "    tax = 17406 + (income - 50000)*.42\n",
        "else:\n",
        "    tax = 38406 + (income - 100000)*.45\n",
        "print(f\"당신이 낼 근로소득세는 {int(tax)*10000:.2f} 원 입니다.\")"
      ],
      "metadata": {
        "id": "pGk6gONQmzky"
      },
      "execution_count": null,
      "outputs": []
    }
  ]
}