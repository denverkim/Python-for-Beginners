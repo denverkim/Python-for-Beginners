{
  "nbformat": 4,
  "nbformat_minor": 0,
  "metadata": {
    "colab": {
      "provenance": [],
      "authorship_tag": "ABX9TyMhQ6Jr6JxAGepJy7fd+sit",
      "include_colab_link": true
    },
    "kernelspec": {
      "name": "python3",
      "display_name": "Python 3"
    },
    "language_info": {
      "name": "python"
    }
  },
  "cells": [
    {
      "cell_type": "markdown",
      "metadata": {
        "id": "view-in-github",
        "colab_type": "text"
      },
      "source": [
        "<a href=\"https://colab.research.google.com/github/denverkim/Python-for-Beginners/blob/main/4_1_1_%ED%95%A8%EC%88%98_%EC%97%B0%EC%8A%B5%EB%AC%B8%EC%A0%9C.ipynb\" target=\"_parent\"><img src=\"https://colab.research.google.com/assets/colab-badge.svg\" alt=\"Open In Colab\"/></a>"
      ]
    },
    {
      "cell_type": "markdown",
      "source": [
        "# 온도 계산\n",
        "함수를 이용해서 화씨를 섭씨로 계산하는 프로그램을 만드시요 (Write a program to calculates degrees Celsius from degrees Fahrenheit using a function).\n",
        "\n"
      ],
      "metadata": {
        "id": "qReQKR88rlwk"
      }
    },
    {
      "cell_type": "code",
      "execution_count": 1,
      "metadata": {
        "id": "eawR1GZergsV"
      },
      "outputs": [],
      "source": [
        "def temp_conv(f):\n",
        "    c = (f - 32) * 5/9\n",
        "    return round(c,2)"
      ]
    },
    {
      "cell_type": "code",
      "source": [
        "temp_conv(100)"
      ],
      "metadata": {
        "colab": {
          "base_uri": "https://localhost:8080/"
        },
        "id": "7C8l19Vtr1QM",
        "outputId": "98f06715-beba-443b-ad21-1b8a321b0005"
      },
      "execution_count": 2,
      "outputs": [
        {
          "output_type": "execute_result",
          "data": {
            "text/plain": [
              "37.78"
            ]
          },
          "metadata": {},
          "execution_count": 2
        }
      ]
    },
    {
      "cell_type": "code",
      "source": [
        "temp_conv(70)"
      ],
      "metadata": {
        "colab": {
          "base_uri": "https://localhost:8080/"
        },
        "id": "n4wcyfdnr2rX",
        "outputId": "2e97410f-aa3f-4e75-fe63-7f0037c787a7"
      },
      "execution_count": 3,
      "outputs": [
        {
          "output_type": "execute_result",
          "data": {
            "text/plain": [
              "21.11"
            ]
          },
          "metadata": {},
          "execution_count": 3
        }
      ]
    },
    {
      "cell_type": "markdown",
      "source": [
        "# 문장 처리\n",
        "사용자에게 문장을 받아서 리스트를 만든 후 두번째 단어를 대문자로 만드는 프로그램을 짜시요 (Write a program which accepts a sentence from user and generate a list and show the upper case of the second word).\n",
        "   \n",
        "**Sample data**  \n",
        "`This example has five words!`\n",
        "\n",
        "**Output**  \n",
        "`This Example has five words!`"
      ],
      "metadata": {
        "id": "chwp1MkYrn8G"
      }
    },
    {
      "cell_type": "code",
      "source": [
        "def upper_conv(text):\n",
        "    return text.split(' ')[1].upper()"
      ],
      "metadata": {
        "id": "kbw1nOW8sErb"
      },
      "execution_count": 4,
      "outputs": []
    },
    {
      "cell_type": "code",
      "source": [
        "sample = 'This example has five words!'\n",
        "upper_conv(sample)"
      ],
      "metadata": {
        "colab": {
          "base_uri": "https://localhost:8080/",
          "height": 35
        },
        "id": "49kkz_tjsOOE",
        "outputId": "ac4789a6-8fc7-4297-acda-5d1a57d3fdaa"
      },
      "execution_count": 5,
      "outputs": [
        {
          "output_type": "execute_result",
          "data": {
            "text/plain": [
              "'EXAMPLE'"
            ],
            "application/vnd.google.colaboratory.intrinsic+json": {
              "type": "string"
            }
          },
          "metadata": {},
          "execution_count": 5
        }
      ]
    }
  ]
}