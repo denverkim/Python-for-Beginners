{
  "nbformat": 4,
  "nbformat_minor": 0,
  "metadata": {
    "colab": {
      "provenance": [],
      "authorship_tag": "ABX9TyPDsjf1PPlo+MzDsq20LJYD",
      "include_colab_link": true
    },
    "kernelspec": {
      "name": "python3",
      "display_name": "Python 3"
    },
    "language_info": {
      "name": "python"
    }
  },
  "cells": [
    {
      "cell_type": "markdown",
      "metadata": {
        "id": "view-in-github",
        "colab_type": "text"
      },
      "source": [
        "<a href=\"https://colab.research.google.com/github/denverkim/Python-for-Beginners/blob/main/4_1_1_%ED%95%A8%EC%88%98_%EC%97%B0%EC%8A%B5%EB%AC%B8%EC%A0%9C.ipynb\" target=\"_parent\"><img src=\"https://colab.research.google.com/assets/colab-badge.svg\" alt=\"Open In Colab\"/></a>"
      ]
    },
    {
      "cell_type": "markdown",
      "source": [
        "# 1️⃣ 온도 변환 프로그램\n",
        "섭씨(Celsius)로 온도를 변환하는 함수를 만들어보세요.\n",
        "사용자에게 화씨(Fahrenheit) 온도를 입력받아, 해당 값을 섭씨로 변환하여 출력하는 프로그램을 작성하세요.  \n",
        "\n",
        "\n",
        "📌 변환 공식:\n",
        "    C = (F − 32) × 5 / 9\n",
        "\n",
        "```\n",
        "Enter temperature in Fahrenheit: 100  \n",
        "Temperature in Celsius: 37.78  \n",
        "```"
      ],
      "metadata": {
        "id": "qReQKR88rlwk"
      }
    },
    {
      "cell_type": "code",
      "execution_count": null,
      "metadata": {
        "id": "eawR1GZergsV"
      },
      "outputs": [],
      "source": [
        "def temp_conv(f):\n",
        "    c = (f - 32) * 5/9\n",
        "    return round(c,2)"
      ]
    },
    {
      "cell_type": "code",
      "source": [
        "print(temp_conv(100))   # 출력: 37.78\n",
        "print(temp_conv(32))    # 출력: 0.0\n",
        "print(temp_conv(68))    # 출력: 20.0"
      ],
      "metadata": {
        "colab": {
          "base_uri": "https://localhost:8080/"
        },
        "id": "7C8l19Vtr1QM",
        "outputId": "98f06715-beba-443b-ad21-1b8a321b0005"
      },
      "execution_count": null,
      "outputs": [
        {
          "output_type": "execute_result",
          "data": {
            "text/plain": [
              "37.78"
            ]
          },
          "metadata": {},
          "execution_count": 2
        }
      ]
    },
    {
      "cell_type": "code",
      "source": [
        "# 사용자 입력 포함한 온도 변환 프로그램\n",
        "def temp_conv(f):\n",
        "    c = (f - 32) * 5 / 9\n",
        "    return round(c, 2)\n",
        "\n",
        "fahrenheit = float(input(\"Enter temperature in Fahrenheit: \"))\n",
        "celsius = temp_conv(fahrenheit)\n",
        "print(\"Temperature in Celsius:\", celsius)"
      ],
      "metadata": {
        "id": "KOsnS3N-BgUV"
      },
      "execution_count": null,
      "outputs": []
    },
    {
      "cell_type": "markdown",
      "source": [
        "# 2️⃣ 문장 처리 프로그램\n",
        "사용자로부터 문장을 입력받고, 이 문장을 단어 단위로 분리한 후 두 번째 단어만 대문자로 변환하세요. 변환된 문장은 다시 문자열로 출력해야 합니다.\n",
        "   \n",
        "**Sample data**  \n",
        "`This example has five words!`\n",
        "\n",
        "**Output**  \n",
        "`This EXAMPLE has five words!`"
      ],
      "metadata": {
        "id": "chwp1MkYrn8G"
      }
    },
    {
      "cell_type": "code",
      "source": [
        "def upper_conv(text):\n",
        "    words = text.split()\n",
        "    words[1] = words[1].upper()\n",
        "    return ' '.join(words)"
      ],
      "metadata": {
        "id": "kbw1nOW8sErb"
      },
      "execution_count": 1,
      "outputs": []
    },
    {
      "cell_type": "code",
      "source": [
        "sample = 'This example has five words!'\n",
        "upper_conv(sample)"
      ],
      "metadata": {
        "colab": {
          "base_uri": "https://localhost:8080/",
          "height": 35
        },
        "id": "49kkz_tjsOOE",
        "outputId": "c6e95d9a-db20-4302-86ed-51431d767817"
      },
      "execution_count": 2,
      "outputs": [
        {
          "output_type": "execute_result",
          "data": {
            "text/plain": [
              "'This EXAMPLE has five words!'"
            ],
            "application/vnd.google.colaboratory.intrinsic+json": {
              "type": "string"
            }
          },
          "metadata": {},
          "execution_count": 2
        }
      ]
    }
  ]
}