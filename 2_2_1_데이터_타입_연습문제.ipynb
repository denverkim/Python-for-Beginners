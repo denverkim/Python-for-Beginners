{
  "nbformat": 4,
  "nbformat_minor": 0,
  "metadata": {
    "colab": {
      "provenance": [],
      "authorship_tag": "ABX9TyP2VM1SbeHLx0cNa2pkWk5L",
      "include_colab_link": true
    },
    "kernelspec": {
      "name": "python3",
      "display_name": "Python 3"
    },
    "language_info": {
      "name": "python"
    }
  },
  "cells": [
    {
      "cell_type": "markdown",
      "metadata": {
        "id": "view-in-github",
        "colab_type": "text"
      },
      "source": [
        "<a href=\"https://colab.research.google.com/github/denverkim/Python-for-Beginners/blob/main/2_2_1_%EB%8D%B0%EC%9D%B4%ED%84%B0_%ED%83%80%EC%9E%85_%EC%97%B0%EC%8A%B5%EB%AC%B8%EC%A0%9C.ipynb\" target=\"_parent\"><img src=\"https://colab.research.google.com/assets/colab-badge.svg\" alt=\"Open In Colab\"/></a>"
      ]
    },
    {
      "cell_type": "code",
      "source": [
        "# 사용자로부터 쉼표로 구분된 숫자 시퀀스를 받아서 리스트와 튜플을 생성하는 Python 프로그램을 작성하시오 (Write a Python program which accepts a sequence of comma-separated numbers from user and generate a list and a tuple with those numbers).\n",
        "# Sample data : 3, 5, 7, 23\n",
        "# Output :\n",
        "# List : ['3', ' 5', ' 7', ' 23']\n",
        "# Tuple : ('3', ' 5', ' 7', ' 23')\n",
        "\n",
        "numbers = input(\"쉼표로 구분된 숫자를 입력하세요: \")\n",
        "number_list = numbers.split(',')\n",
        "number_tuple = tuple(number_list)\n",
        "\n",
        "print(\"List:\", number_list)\n",
        "print(\"Tuple:\", number_tuple)"
      ],
      "metadata": {
        "colab": {
          "base_uri": "https://localhost:8080/"
        },
        "id": "JaIvefT9oWw-",
        "outputId": "adb86e40-5c45-4e78-8a85-72529e5d0eda"
      },
      "execution_count": 1,
      "outputs": [
        {
          "output_type": "stream",
          "name": "stdout",
          "text": [
            "쉼표로 구분된 숫자를 입력하세요: 3,5,7,23\n",
            "List: ['3', '5', '7', '23']\n",
            "Tuple: ('3', '5', '7', '23')\n"
          ]
        }
      ]
    }
  ]
}