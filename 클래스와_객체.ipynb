{
  "nbformat": 4,
  "nbformat_minor": 0,
  "metadata": {
    "colab": {
      "provenance": [],
      "authorship_tag": "ABX9TyNoodqmQWFI4cZRGLl7+aKU",
      "include_colab_link": true
    },
    "kernelspec": {
      "name": "python3",
      "display_name": "Python 3"
    },
    "language_info": {
      "name": "python"
    }
  },
  "cells": [
    {
      "cell_type": "markdown",
      "metadata": {
        "id": "view-in-github",
        "colab_type": "text"
      },
      "source": [
        "<a href=\"https://colab.research.google.com/github/denverkim/Python-for-Beginners/blob/main/%ED%81%B4%EB%9E%98%EC%8A%A4%EC%99%80_%EA%B0%9D%EC%B2%B4.ipynb\" target=\"_parent\"><img src=\"https://colab.research.google.com/assets/colab-badge.svg\" alt=\"Open In Colab\"/></a>"
      ]
    },
    {
      "cell_type": "markdown",
      "source": [
        "# 1. Dog 클래스 개체화\n",
        "\n",
        "`Dog` 클래스를 정의하되, 이름(name), 품종(breed), 나이(age)의 속성을 가지며, 꼬리 흔들기(wagging), 짖기(barking), 먹기(eating) 메소드를 포함하도록 하세요.  \n",
        "그리고 `Dog` 객체를 생성하여 각 메소드를 호출하시오."
      ],
      "metadata": {
        "id": "UNMTG38Jm8b-"
      }
    },
    {
      "cell_type": "code",
      "execution_count": 1,
      "metadata": {
        "colab": {
          "base_uri": "https://localhost:8080/"
        },
        "id": "rHqne5PCm5a5",
        "outputId": "52645677-83a0-4a38-f319-feb948c7b685"
      },
      "outputs": [
        {
          "output_type": "stream",
          "name": "stdout",
          "text": [
            "dooley is wagging its tail.\n",
            "dooley is barking.\n",
            "dooley is eating.\n"
          ]
        }
      ],
      "source": [
        "class Dog:\n",
        "    def __init__(self, name, breed=None, age=None):\n",
        "        self.name = name\n",
        "        self.breed = breed\n",
        "        self.age = age\n",
        "\n",
        "    def wagging(self):\n",
        "        print(f\"{self.name} is wagging its tail.\")\n",
        "\n",
        "    def barking(self):\n",
        "        print(f\"{self.name} is barking.\")\n",
        "\n",
        "    def eating(self):\n",
        "        print(f\"{self.name} is eating.\")\n",
        "\n",
        "# 객체 생성\n",
        "myDog = Dog(\"dooley\")\n",
        "\n",
        "# 메서드 호출\n",
        "myDog.wagging()\n",
        "myDog.barking()\n",
        "myDog.eating()"
      ]
    },
    {
      "cell_type": "markdown",
      "source": [
        "# 2. 한국인 클래스\n",
        "\n",
        "`Korean`이라는 클래스를 작성하시오.  \n",
        "`printNationality`라는 메소드를 포함하며, 호출 시 `\"Korean\"`이라는 문자열을 출력해야 합니다."
      ],
      "metadata": {
        "id": "AGOGGPnXnEpN"
      }
    },
    {
      "cell_type": "code",
      "source": [
        "class Korean:\n",
        "    def printNationality(self):\n",
        "        print(\"Korean\")\n",
        "\n",
        "# 사용 예시\n",
        "person = Korean()\n",
        "person.printNationality()"
      ],
      "metadata": {
        "colab": {
          "base_uri": "https://localhost:8080/"
        },
        "id": "Uvf4KsQAm_7t",
        "outputId": "3238c2fc-cd43-4340-92b8-f06df435f314"
      },
      "execution_count": 2,
      "outputs": [
        {
          "output_type": "stream",
          "name": "stdout",
          "text": [
            "Korean\n"
          ]
        }
      ]
    },
    {
      "cell_type": "markdown",
      "source": [
        "# 3. 원 클래스\n",
        "\n",
        "반지름(radius)을 속성으로 가지고, 원의 넓이와 둘레를 계산하는 메소드(`getArea()`, `getPerimeter()`)를 포함하는 `Circle` 클래스를 작성하시오."
      ],
      "metadata": {
        "id": "GXvY4diNnI31"
      }
    },
    {
      "cell_type": "code",
      "source": [
        "import math\n",
        "\n",
        "class Circle:\n",
        "    def __init__(self, radius):\n",
        "        self.radius = radius\n",
        "\n",
        "    def getArea(self):\n",
        "        return math.pi * self.radius ** 2\n",
        "\n",
        "    def getPerimeter(self):\n",
        "        return 2 * math.pi * self.radius\n",
        "\n",
        "# 사용 예시\n",
        "c = Circle(5)\n",
        "print(\"Area:\", c.getArea())\n",
        "print(\"Perimeter:\", c.getPerimeter())"
      ],
      "metadata": {
        "colab": {
          "base_uri": "https://localhost:8080/"
        },
        "id": "RD55C5R5nHYn",
        "outputId": "d10e949b-46a7-4f29-d768-7c8b8a859ac7"
      },
      "execution_count": 7,
      "outputs": [
        {
          "output_type": "stream",
          "name": "stdout",
          "text": [
            "Area: 78.53981633974483\n",
            "Perimeter: 31.41592653589793\n"
          ]
        }
      ]
    },
    {
      "cell_type": "markdown",
      "source": [
        "# 4. 사각형 클래스\n",
        "\n",
        "길이(length)와 너비(width)를 속성으로 가지고, 사각형의 면적을 계산하는 메소드(`getArea()`)를 포함하는 `Rectangle` 클래스를 작성하시오"
      ],
      "metadata": {
        "id": "tl86CuoTnNcm"
      }
    },
    {
      "cell_type": "code",
      "source": [
        "class Rectangle:\n",
        "    def __init__(self, length, width):\n",
        "        self.length = length\n",
        "        self.width = width\n",
        "\n",
        "    def getArea(self):\n",
        "        return self.length * self.width\n",
        "\n",
        "# 사용 예시\n",
        "r = Rectangle(4, 5)\n",
        "print(\"Area:\", r.getArea())"
      ],
      "metadata": {
        "colab": {
          "base_uri": "https://localhost:8080/"
        },
        "id": "38NReci9nOvG",
        "outputId": "2d3a64c3-9a2d-4da4-dcc4-0db3a5a55d41"
      },
      "execution_count": 8,
      "outputs": [
        {
          "output_type": "stream",
          "name": "stdout",
          "text": [
            "Area: 20\n"
          ]
        }
      ]
    },
    {
      "cell_type": "markdown",
      "source": [
        "# 5. 문자열 처리 클래스\n",
        "\n",
        "문자열을 입력받는 `get_String` 메소드와, 입력받은 문자열을 대문자로 출력하는 `print_String` 메소드를 가진 클래스를 작성하시오."
      ],
      "metadata": {
        "id": "kh4DXdBjnRlV"
      }
    },
    {
      "cell_type": "code",
      "source": [
        "class StringProcessor:\n",
        "    def __init__(self):\n",
        "        self.string = \"\"\n",
        "\n",
        "    def get_String(self):\n",
        "        self.string = input(\"Enter a string: \")\n",
        "\n",
        "    def print_String(self):\n",
        "        print(self.string.upper())\n",
        "\n",
        "# 사용 예시\n",
        "sp = StringProcessor()\n",
        "sp.get_String()\n",
        "sp.print_String()"
      ],
      "metadata": {
        "colab": {
          "base_uri": "https://localhost:8080/"
        },
        "id": "0GvwjfWVnQ-n",
        "outputId": "9f2ad0d2-5356-4815-a6d8-03dec58a2d96"
      },
      "execution_count": 5,
      "outputs": [
        {
          "output_type": "stream",
          "name": "stdout",
          "text": [
            "Enter a string: i am a student\n",
            "I AM A STUDENT\n"
          ]
        }
      ]
    },
    {
      "cell_type": "markdown",
      "source": [
        "# 6. 문자열 거꾸로 출력 클래스\n",
        "\n",
        "문자열을 단어 단위로 거꾸로 출력하는 클래스를 작성하시오.  \n",
        "예) 입력: `'hello .py'`  \n",
        "출력: `'.py hello'`"
      ],
      "metadata": {
        "id": "7xYepGFjnZI9"
      }
    },
    {
      "cell_type": "code",
      "source": [
        "class ReverseWords:\n",
        "    def __init__(self, input_string):\n",
        "        self.input_string = input_string\n",
        "\n",
        "    def reverse_word_order(self):\n",
        "        words = self.input_string.split()\n",
        "        reversed_words = words[::-1]\n",
        "        return ' '.join(reversed_words)\n",
        "\n",
        "# 사용 예시\n",
        "rw = ReverseWords(\"hello .py\")\n",
        "print(rw.reverse_word_order())  # 출력: \".py hello\""
      ],
      "metadata": {
        "colab": {
          "base_uri": "https://localhost:8080/"
        },
        "id": "uIF1mVCKnYGH",
        "outputId": "e9fed7cf-16c3-4803-e1d7-951b0e6999e2"
      },
      "execution_count": 6,
      "outputs": [
        {
          "output_type": "stream",
          "name": "stdout",
          "text": [
            ".py hello\n"
          ]
        }
      ]
    }
  ]
}