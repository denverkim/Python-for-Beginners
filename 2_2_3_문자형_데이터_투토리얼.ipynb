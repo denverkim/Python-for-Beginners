{
  "nbformat": 4,
  "nbformat_minor": 0,
  "metadata": {
    "colab": {
      "provenance": [],
      "authorship_tag": "ABX9TyP9XgUZfAZckzUaFyAlar+R",
      "include_colab_link": true
    },
    "kernelspec": {
      "name": "python3",
      "display_name": "Python 3"
    },
    "language_info": {
      "name": "python"
    }
  },
  "cells": [
    {
      "cell_type": "markdown",
      "metadata": {
        "id": "view-in-github",
        "colab_type": "text"
      },
      "source": [
        "<a href=\"https://colab.research.google.com/github/denverkim/Python-for-Beginners/blob/main/2_2_3_%EB%AC%B8%EC%9E%90%ED%98%95_%EB%8D%B0%EC%9D%B4%ED%84%B0_%ED%88%AC%ED%86%A0%EB%A6%AC%EC%96%BC.ipynb\" target=\"_parent\"><img src=\"https://colab.research.google.com/assets/colab-badge.svg\" alt=\"Open In Colab\"/></a>"
      ]
    },
    {
      "cell_type": "markdown",
      "source": [
        "https://www.w3schools.com/python/python_strings.asp"
      ],
      "metadata": {
        "id": "ws9aWUSLfZYz"
      }
    },
    {
      "cell_type": "markdown",
      "source": [
        "## 문자열(String) 생성\n",
        "문자열은 작은따옴표(' ') 또는 큰따옴표(\" \")로 감싸서 만듭니다."
      ],
      "metadata": {
        "id": "wbYbP4T34UHw"
      }
    },
    {
      "cell_type": "code",
      "execution_count": 2,
      "metadata": {
        "id": "d-41dZ0n1NVw",
        "colab": {
          "base_uri": "https://localhost:8080/"
        },
        "outputId": "7ec21e9a-2afd-4d55-e7f9-c9e2d932701a"
      },
      "outputs": [
        {
          "output_type": "stream",
          "name": "stdout",
          "text": [
            "Hello\n",
            "Python\n"
          ]
        }
      ],
      "source": [
        "string1 = \"Hello\"\n",
        "string2 = 'Python'\n",
        "print(string1)  # Hello\n",
        "print(string2)  # Python"
      ]
    },
    {
      "cell_type": "code",
      "source": [
        "# 문자열 안에 작은따옴표(')나 큰따옴표(\")를 포함시키는 방법\n",
        "\n",
        "print(\"It's alright\")          # 큰따옴표로 감싸서 작은따옴표 포함\n",
        "print(\"He is called 'Johnny'\") # 큰따옴표 안에 작은따옴표 포함\n",
        "print('He is called \"Johnny\"') # 작은따옴표 안에 큰따옴표 포함"
      ],
      "metadata": {
        "id": "TtN33cef1Ua2",
        "colab": {
          "base_uri": "https://localhost:8080/"
        },
        "outputId": "37232f61-96dd-4ea3-bda7-92b2d3cf9aa3"
      },
      "execution_count": 1,
      "outputs": [
        {
          "output_type": "stream",
          "name": "stdout",
          "text": [
            "It's alright\n",
            "He is called 'Johnny'\n",
            "He is called \"Johnny\"\n"
          ]
        }
      ]
    },
    {
      "cell_type": "code",
      "source": [
        "# 문자열을 변수에 할당하고 출력하기\n",
        "\n",
        "a = \"Hello\"  # 변수 a에 문자열 \"Hello\" 할당\n",
        "print(a)     # 변수 a의 값을 출력"
      ],
      "metadata": {
        "id": "U0RSMmT_1eEI"
      },
      "execution_count": null,
      "outputs": []
    },
    {
      "cell_type": "markdown",
      "source": [
        "## 여러 줄 문자열\n",
        "삼중 따옴표(''' ''' 또는 \"\"\" \"\"\")로 여러 줄 문자열 생성 가능"
      ],
      "metadata": {
        "id": "AYwzP444a40K"
      }
    },
    {
      "cell_type": "code",
      "source": [
        "# 여러 줄 문자열 (Multiline Strings) 사용 예제\n",
        "\n",
        "a = \"\"\"Lorem ipsum dolor sit amet,\n",
        "consectetur adipiscing elit,\n",
        "sed do eiusmod tempor incididunt\n",
        "ut labore et dolore magna aliqua.\"\"\"\n",
        "print(a)\n",
        "\n",
        "a = '''Lorem ipsum dolor sit amet,\n",
        "consectetur adipiscing elit,\n",
        "sed do eiusmod tempor incididunt\n",
        "ut labore et dolore magna aliqua.'''\n",
        "print(a)"
      ],
      "metadata": {
        "id": "R5yStDAP1-u_",
        "colab": {
          "base_uri": "https://localhost:8080/"
        },
        "outputId": "a7dd539f-224d-4115-e128-73cbc930297f"
      },
      "execution_count": 3,
      "outputs": [
        {
          "output_type": "stream",
          "name": "stdout",
          "text": [
            "Lorem ipsum dolor sit amet,\n",
            "consectetur adipiscing elit,\n",
            "sed do eiusmod tempor incididunt\n",
            "ut labore et dolore magna aliqua.\n",
            "Lorem ipsum dolor sit amet,\n",
            "consectetur adipiscing elit,\n",
            "sed do eiusmod tempor incididunt\n",
            "ut labore et dolore magna aliqua.\n"
          ]
        }
      ]
    },
    {
      "cell_type": "markdown",
      "source": [
        "# 문자열 인덱싱과 슬라이싱\n",
        "문자열은 인덱스를 통해 문자에 접근 가능, 0부터 시작\n",
        "음수 인덱스는 뒤에서부터 카운트"
      ],
      "metadata": {
        "id": "UMIV-mpk4Yxr"
      }
    },
    {
      "cell_type": "code",
      "source": [
        "# 문자열은 문자들의 배열 (배열처럼 인덱스로 접근 가능)\n",
        "\n",
        "a = \"Hello, World!\"\n",
        "print(a[1])  # 문자열에서 두 번째 문자 출력 ('e')"
      ],
      "metadata": {
        "id": "WZGvhK0C2Q6f",
        "colab": {
          "base_uri": "https://localhost:8080/"
        },
        "outputId": "c5728ac4-b74f-48f7-8808-3b9b0f97ed5c"
      },
      "execution_count": 4,
      "outputs": [
        {
          "output_type": "stream",
          "name": "stdout",
          "text": [
            "e\n"
          ]
        }
      ]
    },
    {
      "cell_type": "code",
      "source": [
        "# 문자열을 반복문으로 순회하기\n",
        "\n",
        "for x in \"banana\":\n",
        "    print(x)"
      ],
      "metadata": {
        "id": "INdxpoQw2XC-",
        "colab": {
          "base_uri": "https://localhost:8080/"
        },
        "outputId": "57a7af66-3b96-4961-a825-0c077a6a050e"
      },
      "execution_count": 5,
      "outputs": [
        {
          "output_type": "stream",
          "name": "stdout",
          "text": [
            "b\n",
            "a\n",
            "n\n",
            "a\n",
            "n\n",
            "a\n"
          ]
        }
      ]
    },
    {
      "cell_type": "code",
      "source": [
        "# 문자열 길이 구하기\n",
        "a = \"Hello, World!\"\n",
        "print(len(a))"
      ],
      "metadata": {
        "id": "Gh1gjgP-2cMv",
        "colab": {
          "base_uri": "https://localhost:8080/"
        },
        "outputId": "00dc4be1-14e7-455a-9d4f-d084a66734bc"
      },
      "execution_count": 6,
      "outputs": [
        {
          "output_type": "stream",
          "name": "stdout",
          "text": [
            "13\n"
          ]
        }
      ]
    },
    {
      "cell_type": "code",
      "source": [
        "# 문자열 내 특정 단어 포함 여부 확인하기\n",
        "txt = \"The best things in life are free!\"\n",
        "print(\"free\" in txt)  # True 또는 False 출력\n",
        "\n",
        "# txt 문자열 안에 \"free\"가 포함되어 있는지 확인\n",
        "if \"free\" in txt:\n",
        "  print(\"Yes, 'free' is present.\")"
      ],
      "metadata": {
        "id": "yfiB2Q4k3BA-",
        "colab": {
          "base_uri": "https://localhost:8080/"
        },
        "outputId": "ffb62248-f743-4bd2-ae0c-f83fcce3496c"
      },
      "execution_count": 7,
      "outputs": [
        {
          "output_type": "stream",
          "name": "stdout",
          "text": [
            "True\n",
            "Yes, 'free' is present.\n"
          ]
        }
      ]
    },
    {
      "cell_type": "code",
      "source": [
        "# 문자열에 특정 단어가 없는지 확인하기\n",
        "txt = \"The best things in life are free!\"\n",
        "print(\"expensive\" not in txt)  # True 또는 False 출력\n",
        "\n",
        "if \"expensive\" not in txt:\n",
        "  print(\"No, 'expensive' is NOT present.\")"
      ],
      "metadata": {
        "id": "mVl-edDJ3ReP",
        "colab": {
          "base_uri": "https://localhost:8080/"
        },
        "outputId": "d724d155-4e26-483c-98ea-20bf7ce94dab"
      },
      "execution_count": 8,
      "outputs": [
        {
          "output_type": "stream",
          "name": "stdout",
          "text": [
            "True\n",
            "No, 'expensive' is NOT present.\n"
          ]
        }
      ]
    },
    {
      "cell_type": "code",
      "source": [
        "# 문자열 슬라이싱 (Slicing)\n",
        "b = \"Hello, World!\"\n",
        "\n",
        "print(b[2:5])   # 인덱스 2부터 4까지 (5 미포함) => \"llo\"\n",
        "print(b[:5])    # 시작부터 인덱스 4까지 => \"Hello\"\n",
        "print(b[2:])    # 인덱스 2부터 끝까지 => \"llo, World!\"\n",
        "print(b[-5:-2]) # 뒤에서 5번째부터 3번째 전까지 => \"orl\""
      ],
      "metadata": {
        "id": "wK1iTPm-3mWG",
        "colab": {
          "base_uri": "https://localhost:8080/"
        },
        "outputId": "64c1dc71-a107-4eb1-de95-4b18957a0672"
      },
      "execution_count": 9,
      "outputs": [
        {
          "output_type": "stream",
          "name": "stdout",
          "text": [
            "llo\n",
            "Hello\n",
            "llo, World!\n",
            "orl\n"
          ]
        }
      ]
    },
    {
      "cell_type": "markdown",
      "source": [
        "# 문자열 변환"
      ],
      "metadata": {
        "id": "iidG_rbR4rxE"
      }
    },
    {
      "cell_type": "code",
      "source": [
        "# 대문자 변환\n",
        "a = \"Hello, World!\"      # 문자열 변수 a에 텍스트 할당\n",
        "print(a.upper())         # 문자열을 모두 대문자로 변환하여 출력"
      ],
      "metadata": {
        "id": "MGBM_xVD36Wv"
      },
      "execution_count": null,
      "outputs": []
    },
    {
      "cell_type": "code",
      "source": [
        "# 소문자 변환\n",
        "a = \"Hello, World!\"      # 문자열 변수 a에 텍스트 할당\n",
        "print(a.lower())         # 문자열을 모두 소문자로 변환하여 출력"
      ],
      "metadata": {
        "id": "7VHOl15W3oM8"
      },
      "execution_count": null,
      "outputs": []
    },
    {
      "cell_type": "code",
      "source": [
        "# 문자열의 앞뒤에 있는 불필요한 공백을 제거합니다.\n",
        "a = \" Hello, World! \"\n",
        "print(a.strip())"
      ],
      "metadata": {
        "id": "hkuHdsml4xlU",
        "colab": {
          "base_uri": "https://localhost:8080/"
        },
        "outputId": "7a676f79-8ce6-4955-e251-879bbf49bc24"
      },
      "execution_count": 10,
      "outputs": [
        {
          "output_type": "stream",
          "name": "stdout",
          "text": [
            "Hello, World!\n"
          ]
        }
      ]
    },
    {
      "cell_type": "code",
      "source": [
        "# 문자열 내의 특정 문자를 다른 문자로 바꿉니다.\n",
        "a = \"Hello, World!\"\n",
        "print(a.replace(\"H\", \"J\"))"
      ],
      "metadata": {
        "id": "RuJe-OzZ457T",
        "colab": {
          "base_uri": "https://localhost:8080/"
        },
        "outputId": "8b7c7041-5c27-476d-eee0-62ccf3e16ede"
      },
      "execution_count": 11,
      "outputs": [
        {
          "output_type": "stream",
          "name": "stdout",
          "text": [
            "Jello, World!\n"
          ]
        }
      ]
    },
    {
      "cell_type": "code",
      "source": [
        "# 문자열을 특정 구분자(쉼표)를 기준으로 분리하여 리스트로 반환합니다.\n",
        "a = \"Hello, World!\"\n",
        "print(a.split(\",\"))"
      ],
      "metadata": {
        "id": "4CvQOuvF5AoM",
        "colab": {
          "base_uri": "https://localhost:8080/"
        },
        "outputId": "55202415-fb3d-4020-8846-e01b4d11a794"
      },
      "execution_count": 12,
      "outputs": [
        {
          "output_type": "stream",
          "name": "stdout",
          "text": [
            "['Hello', ' World!']\n"
          ]
        }
      ]
    },
    {
      "cell_type": "code",
      "source": [
        "# 문자열 합치기 예제\n",
        "\n",
        "# 첫 번째 예제: 공백 없이 문자열을 바로 연결\n",
        "a = \"Hello\"\n",
        "b = \"World\"\n",
        "c = a + b\n",
        "print(c)  # 출력: HelloWorld\n",
        "\n",
        "# 두 번째 예제: 문자열 사이에 공백 추가 후 연결\n",
        "a = \"Hello\"\n",
        "b = \"World\"\n",
        "c = a + \" \" + b\n",
        "print(c)  # 출력: Hello World"
      ],
      "metadata": {
        "id": "a-R19mam5AhC",
        "colab": {
          "base_uri": "https://localhost:8080/"
        },
        "outputId": "100aade6-4eef-4ef9-f0ce-ee0132d1c684"
      },
      "execution_count": 13,
      "outputs": [
        {
          "output_type": "stream",
          "name": "stdout",
          "text": [
            "HelloWorld\n",
            "Hello World\n"
          ]
        }
      ]
    },
    {
      "cell_type": "markdown",
      "source": [
        "# 문자열 포매팅\n"
      ],
      "metadata": {
        "id": "supTmBZp5XSn"
      }
    },
    {
      "cell_type": "code",
      "source": [
        "# String Format 예제\n",
        "\n",
        "age = 36\n",
        "txt = \"My name is John, I am \" + str(age)\n",
        "print(txt)"
      ],
      "metadata": {
        "id": "t7y9Qo105ZR7",
        "colab": {
          "base_uri": "https://localhost:8080/"
        },
        "outputId": "7d975b6d-fc20-44a8-cb58-312d52c6f767"
      },
      "execution_count": 15,
      "outputs": [
        {
          "output_type": "stream",
          "name": "stdout",
          "text": [
            "My name is John, I am 36\n"
          ]
        }
      ]
    },
    {
      "cell_type": "code",
      "source": [
        "# f-string (Python 3.6+)\n",
        "\n",
        "age = 36\n",
        "txt = f\"My name is John, I am {age}\"\n",
        "print(txt)"
      ],
      "metadata": {
        "id": "sLRuWQx15dSc",
        "colab": {
          "base_uri": "https://localhost:8080/"
        },
        "outputId": "d81649b0-0f2d-43d8-98bf-cfd32ff37d8b"
      },
      "execution_count": 17,
      "outputs": [
        {
          "output_type": "stream",
          "name": "stdout",
          "text": [
            "My name is John, I am 36\n"
          ]
        }
      ]
    },
    {
      "cell_type": "code",
      "source": [
        "# Placehoders\n",
        "\n",
        "price = 59\n",
        "txt = f\"The price is {price} dollars\"  # f-string으로 변수 값 삽입\n",
        "print(txt)"
      ],
      "metadata": {
        "id": "uvqzGSUF5oaL"
      },
      "execution_count": null,
      "outputs": []
    },
    {
      "cell_type": "code",
      "source": [
        "# Modifiers\n",
        "\n",
        "price = 59\n",
        "txt = f\"The price is {price:.2f} dollars\"  # 소수점 둘째 자리까지 표시\n",
        "print(txt)"
      ],
      "metadata": {
        "id": "0StCIUAI5ulC",
        "colab": {
          "base_uri": "https://localhost:8080/"
        },
        "outputId": "00478017-c27c-4367-8f29-6ac69959067c"
      },
      "execution_count": 18,
      "outputs": [
        {
          "output_type": "stream",
          "name": "stdout",
          "text": [
            "The price is 59.00 dollars\n"
          ]
        }
      ]
    },
    {
      "cell_type": "code",
      "source": [
        "# Operations\n",
        "\n",
        "txt = f\"The price is {20 * 59} dollars\"  # 중괄호 안에서 계산식 사용 가능\n",
        "print(txt)"
      ],
      "metadata": {
        "id": "0QbvVbAF50Wr",
        "colab": {
          "base_uri": "https://localhost:8080/"
        },
        "outputId": "a0caa95d-9a69-42ea-b7fc-f07d42dc7646"
      },
      "execution_count": 19,
      "outputs": [
        {
          "output_type": "stream",
          "name": "stdout",
          "text": [
            "The price is 1180 dollars\n"
          ]
        }
      ]
    },
    {
      "cell_type": "code",
      "source": [
        "# Escape Character\n",
        "\n",
        "txt = \"We are the so-called \\\"Vikings\\\" from the north.\"  # 큰따옴표 안에 큰따옴표를 쓰려면 \\\"로 이스케이프 처리\n",
        "print(txt)"
      ],
      "metadata": {
        "id": "LZ4I7HZA59jB"
      },
      "execution_count": null,
      "outputs": []
    },
    {
      "cell_type": "code",
      "source": [
        "# format() 메서드\n",
        "\n",
        "quantity = 3\n",
        "itemno = 567\n",
        "price = 49.76\n",
        "\n",
        "# 기본적인 format() 사용: 중괄호 {}에 순서대로 값이 들어감\n",
        "myorder = \"I want {} pieces of item {} for {} dollars.\"\n",
        "print(myorder.format(quantity, itemno, price))\n",
        "\n",
        "# 인덱스를 지정하여 순서를 바꿔서 출력 가능\n",
        "myorder = \"I want to pay {2} dollars for {0} pieces of item {1}.\"\n",
        "print(myorder.format(quantity, itemno, price))"
      ],
      "metadata": {
        "id": "SaqKZyw46yES"
      },
      "execution_count": null,
      "outputs": []
    }
  ]
}