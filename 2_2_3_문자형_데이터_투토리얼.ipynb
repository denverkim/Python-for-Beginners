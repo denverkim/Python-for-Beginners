{
  "nbformat": 4,
  "nbformat_minor": 0,
  "metadata": {
    "colab": {
      "provenance": [],
      "authorship_tag": "ABX9TyOVqA4C+dxCqI0+XUYjk4oD",
      "include_colab_link": true
    },
    "kernelspec": {
      "name": "python3",
      "display_name": "Python 3"
    },
    "language_info": {
      "name": "python"
    }
  },
  "cells": [
    {
      "cell_type": "markdown",
      "metadata": {
        "id": "view-in-github",
        "colab_type": "text"
      },
      "source": [
        "<a href=\"https://colab.research.google.com/github/denverkim/Python-for-Beginners/blob/main/2_2_3_%EB%AC%B8%EC%9E%90%ED%98%95_%EB%8D%B0%EC%9D%B4%ED%84%B0_%ED%88%AC%ED%86%A0%EB%A6%AC%EC%96%BC.ipynb\" target=\"_parent\"><img src=\"https://colab.research.google.com/assets/colab-badge.svg\" alt=\"Open In Colab\"/></a>"
      ]
    },
    {
      "cell_type": "markdown",
      "source": [
        "# 기본 사용법"
      ],
      "metadata": {
        "id": "wbYbP4T34UHw"
      }
    },
    {
      "cell_type": "code",
      "execution_count": null,
      "metadata": {
        "id": "d-41dZ0n1NVw"
      },
      "outputs": [],
      "source": [
        "# Strings\n",
        "print(\"Hello\")\n",
        "print('Hello')"
      ]
    },
    {
      "cell_type": "code",
      "source": [
        "# Quotes Inside Quotes\n",
        "print(\"It's alright\")\n",
        "print(\"He is called 'Johnny'\")\n",
        "print('He is called \"Johnny\"')"
      ],
      "metadata": {
        "id": "TtN33cef1Ua2"
      },
      "execution_count": null,
      "outputs": []
    },
    {
      "cell_type": "code",
      "source": [
        "# Assign String to a Variable\n",
        "a = \"Hello\"\n",
        "print(a)"
      ],
      "metadata": {
        "id": "U0RSMmT_1eEI"
      },
      "execution_count": null,
      "outputs": []
    },
    {
      "cell_type": "code",
      "source": [
        "# Multiline Strings\n",
        "a = \"\"\"Lorem ipsum dolor sit amet,\n",
        "consectetur adipiscing elit,\n",
        "sed do eiusmod tempor incididunt\n",
        "ut labore et dolore magna aliqua.\"\"\"\n",
        "print(a)\n",
        "\n",
        "a = '''Lorem ipsum dolor sit amet,\n",
        "consectetur adipiscing elit,\n",
        "sed do eiusmod tempor incididunt\n",
        "ut labore et dolore magna aliqua.'''\n",
        "print(a)"
      ],
      "metadata": {
        "id": "R5yStDAP1-u_"
      },
      "execution_count": null,
      "outputs": []
    },
    {
      "cell_type": "markdown",
      "source": [
        "# 문자열 자르기"
      ],
      "metadata": {
        "id": "UMIV-mpk4Yxr"
      }
    },
    {
      "cell_type": "code",
      "source": [
        "# Strings are Arrays\n",
        "a = \"Hello, World!\"\n",
        "print(a[1])"
      ],
      "metadata": {
        "id": "WZGvhK0C2Q6f"
      },
      "execution_count": null,
      "outputs": []
    },
    {
      "cell_type": "code",
      "source": [
        "# Looping Through a String\n",
        "for x in \"banana\":\n",
        "  print(x)"
      ],
      "metadata": {
        "id": "INdxpoQw2XC-"
      },
      "execution_count": null,
      "outputs": []
    },
    {
      "cell_type": "code",
      "source": [
        "# String Length\n",
        "a = \"Hello, World!\"\n",
        "print(len(a))"
      ],
      "metadata": {
        "id": "Gh1gjgP-2cMv"
      },
      "execution_count": null,
      "outputs": []
    },
    {
      "cell_type": "code",
      "source": [
        "# Check String\n",
        "txt = \"The best things in life are free!\"\n",
        "print(\"free\" in txt)\n",
        "\n",
        "if \"free\" in txt:\n",
        "  print(\"Yes, 'free' is present.\")"
      ],
      "metadata": {
        "id": "yfiB2Q4k3BA-"
      },
      "execution_count": null,
      "outputs": []
    },
    {
      "cell_type": "code",
      "source": [
        "# Check if NOT\n",
        "txt = \"The best things in life are free!\"\n",
        "print(\"expensive\" not in txt)\n",
        "\n",
        "if \"expensive\" not in txt:\n",
        "  print(\"No, 'expensive' is NOT present.\")"
      ],
      "metadata": {
        "id": "mVl-edDJ3ReP"
      },
      "execution_count": null,
      "outputs": []
    },
    {
      "cell_type": "code",
      "source": [
        "# Slicing\n",
        "b = \"Hello, World!\"\n",
        "print(b[2:5])\n",
        "print(b[:5]) # Slice From the Start\n",
        "print(b[2:]) # Slice To the End\n",
        "print(b[-5:-2]) # Negative Indexing"
      ],
      "metadata": {
        "id": "wK1iTPm-3mWG"
      },
      "execution_count": null,
      "outputs": []
    },
    {
      "cell_type": "markdown",
      "source": [
        "# 문자열 변환"
      ],
      "metadata": {
        "id": "iidG_rbR4rxE"
      }
    },
    {
      "cell_type": "code",
      "source": [
        "# 대문자\n",
        "a = \"Hello, World!\"\n",
        "print(a.upper())"
      ],
      "metadata": {
        "id": "MGBM_xVD36Wv"
      },
      "execution_count": null,
      "outputs": []
    },
    {
      "cell_type": "code",
      "source": [
        "# 소문자\n",
        "a = \"Hello, World!\"\n",
        "print(a.lower())"
      ],
      "metadata": {
        "id": "7VHOl15W3oM8"
      },
      "execution_count": null,
      "outputs": []
    },
    {
      "cell_type": "code",
      "source": [
        "# 빈공간 제거\n",
        "a = \" Hello, World! \"\n",
        "print(a.strip()) # returns \"Hello, World!\""
      ],
      "metadata": {
        "id": "hkuHdsml4xlU"
      },
      "execution_count": null,
      "outputs": []
    },
    {
      "cell_type": "code",
      "source": [
        "# 문자열 대체\n",
        "a = \"Hello, World!\"\n",
        "print(a.replace(\"H\", \"J\"))"
      ],
      "metadata": {
        "id": "RuJe-OzZ457T"
      },
      "execution_count": null,
      "outputs": []
    },
    {
      "cell_type": "code",
      "source": [
        "# 문자열 분리\n",
        "a = \"Hello, World!\"\n",
        "print(a.split(\",\")) # returns ['Hello', ' World!']"
      ],
      "metadata": {
        "id": "4CvQOuvF5AoM"
      },
      "execution_count": null,
      "outputs": []
    },
    {
      "cell_type": "code",
      "source": [
        "# 문자열 합치기\n",
        "a = \"Hello\"\n",
        "b = \"World\"\n",
        "c = a + b\n",
        "print(c)\n",
        "\n",
        "a = \"Hello\"\n",
        "b = \"World\"\n",
        "c = a + \" \" + b\n",
        "print(c)"
      ],
      "metadata": {
        "id": "a-R19mam5AhC"
      },
      "execution_count": null,
      "outputs": []
    },
    {
      "cell_type": "markdown",
      "source": [
        "# 문자열 꾸미기"
      ],
      "metadata": {
        "id": "supTmBZp5XSn"
      }
    },
    {
      "cell_type": "code",
      "source": [
        "# String Format\n",
        "age = 36\n",
        "txt = \"My name is John, I am \" + age\n",
        "print(txt)"
      ],
      "metadata": {
        "id": "t7y9Qo105ZR7"
      },
      "execution_count": null,
      "outputs": []
    },
    {
      "cell_type": "code",
      "source": [
        "# F-Strings\n",
        "age = 36\n",
        "txt = f\"My name is John, I am {age}\"\n",
        "print(txt)"
      ],
      "metadata": {
        "id": "sLRuWQx15dSc"
      },
      "execution_count": null,
      "outputs": []
    },
    {
      "cell_type": "code",
      "source": [
        "# Placehoders\n",
        "price = 59\n",
        "txt = f\"The price is {price} dollars\"\n",
        "print(txt)"
      ],
      "metadata": {
        "id": "uvqzGSUF5oaL"
      },
      "execution_count": null,
      "outputs": []
    },
    {
      "cell_type": "code",
      "source": [
        "# Modifiers\n",
        "price = 59\n",
        "txt = f\"The price is {price:.2f} dollars\"\n",
        "print(txt)"
      ],
      "metadata": {
        "id": "0StCIUAI5ulC"
      },
      "execution_count": null,
      "outputs": []
    },
    {
      "cell_type": "code",
      "source": [
        "# operations\n",
        "txt = f\"The price is {20 * 59} dollars\"\n",
        "print(txt)"
      ],
      "metadata": {
        "id": "0QbvVbAF50Wr"
      },
      "execution_count": null,
      "outputs": []
    },
    {
      "cell_type": "code",
      "source": [
        "# Escape Character\n",
        "txt = \"We are the so-called \\\"Vikings\\\" from the north.\""
      ],
      "metadata": {
        "id": "LZ4I7HZA59jB"
      },
      "execution_count": null,
      "outputs": []
    },
    {
      "cell_type": "code",
      "source": [
        "quantity = 3\n",
        "itemno = 567\n",
        "price = 49.76\n",
        "myorder = \"i want {} pieces of item {} \\\n",
        "for {} dollars.\"\n",
        "print(myorder.format(quantity, itemno,\n",
        "                     price))\n",
        "myorder = \"i want pay {2} dollars for {0} pieces \\\n",
        "of item {1}.\"\n",
        "print(myorder.format(quantity, itemno,\n",
        "                     price))"
      ],
      "metadata": {
        "id": "SaqKZyw46yES"
      },
      "execution_count": null,
      "outputs": []
    }
  ]
}